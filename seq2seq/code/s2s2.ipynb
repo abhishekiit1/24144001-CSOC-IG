{
 "cells": [
  {
   "cell_type": "code",
   "execution_count": 4,
   "id": "eda4fe15",
   "metadata": {},
   "outputs": [],
   "source": [
    "!pip install datasets sacrebleu --quiet\n",
    "\n",
    "import torch\n",
    "import torch.nn as nn\n",
    "import torch.optim as optim\n",
    "from torch.utils.data import Dataset, DataLoader\n",
    "\n",
    "import numpy as np\n",
    "from datasets import load_dataset\n",
    "from sacrebleu import corpus_bleu\n",
    "\n",
    "import matplotlib.pyplot as plt\n",
    "import random\n",
    "import time\n",
    "from tqdm import tqdm\n",
    "import re\n",
    "from torch.utils.checkpoint import checkpoint\n"
   ]
  },
  {
   "cell_type": "code",
   "execution_count": null,
   "id": "a8c2dc02",
   "metadata": {},
   "outputs": [
    {
     "name": "stdout",
     "output_type": "stream",
     "text": [
      "{'id': '60296', 'translation': {'en': 'Kitty, on the contrary, was more active than usual and even more animated.', 'es': 'Kitty, al contrario, estaba más activa a incluso más animada que nunca.'}}\n"
     ]
    }
   ],
   "source": [
    "dataset = load_dataset(\"opus_books\", \"en-es\")\n",
    "\n",
    "raw_data = dataset[\"train\"].shuffle(seed=42).select(range(15000))\n",
    "print(raw_data[0])\n",
    "\n",
    "# Special tokens\n",
    "PAD_TOKEN = \"<pad>\"\n",
    "SOS_TOKEN = \"<sos>\"\n",
    "EOS_TOKEN = \"<eos>\"\n",
    "UNK_TOKEN = \"<unk>\"\n",
    "\n",
    "# toknize\n",
    "def tokenize(text):\n",
    "    text = text.lower()\n",
    "    text = re.sub(r\"[^a-zA-Z¿¡]+\", \" \", text)\n",
    "    return text.strip().split()\n",
    "\n",
    "en_sentences = [tokenize(x['translation']['en']) for x in raw_data]\n",
    "es_sentences = [tokenize(x['translation']['es']) for x in raw_data]\n",
    "\n",
    "\n",
    "es_sentences = [[SOS_TOKEN] + sent + [EOS_TOKEN] for sent in es_sentences]"
   ]
  },
  {
   "cell_type": "code",
   "execution_count": 6,
   "id": "178f10f6",
   "metadata": {},
   "outputs": [
    {
     "name": "stdout",
     "output_type": "stream",
     "text": [
      "English Vocab Size: 11121\n",
      "Spanish Vocab Size: 13268\n"
     ]
    }
   ],
   "source": [
    "from collections import Counter\n",
    "import re\n",
    "\n",
    "def build_vocab(sentences, min_freq=2):\n",
    "    counter = Counter()\n",
    "    for sentence in sentences:\n",
    "        counter.update(sentence)\n",
    "    vocab = [PAD_TOKEN, SOS_TOKEN, EOS_TOKEN, UNK_TOKEN] + \\\n",
    "            [word for word, freq in counter.items() if freq >= min_freq]\n",
    "    word2idx = {word: idx for idx, word in enumerate(vocab)}\n",
    "    idx2word = {idx: word for word, idx in word2idx.items()}\n",
    "    return vocab, word2idx, idx2word\n",
    "\n",
    "en_vocab, en_word2idx, en_idx2word = build_vocab(en_sentences)\n",
    "es_vocab, es_word2idx, es_idx2word = build_vocab(es_sentences)\n",
    "\n",
    "print(f\"English Vocab Size: {len(en_vocab)}\")\n",
    "print(f\"Spanish Vocab Size: {len(es_vocab)}\")"
   ]
  },
  {
   "cell_type": "code",
   "execution_count": null,
   "id": "b4abf36d",
   "metadata": {},
   "outputs": [
    {
     "name": "stdout",
     "output_type": "stream",
     "text": [
      "Inputs shape: torch.Size([15000, 60])\n",
      "Targets shape: torch.Size([15000, 62])\n"
     ]
    }
   ],
   "source": [
    "MAX_LEN_EN = 60\n",
    "MAX_LEN_ES = 62 \n",
    "\n",
    "def encode_sentence(sentence, word2idx, max_len, is_target=False):\n",
    "    ids = [word2idx.get(tok, word2idx[UNK_TOKEN]) for tok in sentence]\n",
    "    if is_target:\n",
    "        ids = ids[:max_len]\n",
    "        ids += [word2idx[PAD_TOKEN]] * (max_len - len(ids))\n",
    "    else:\n",
    "        ids = ids[:max_len]\n",
    "        ids += [word2idx[PAD_TOKEN]] * (max_len - len(ids))\n",
    "    return ids\n",
    "\n",
    "inputs = [encode_sentence(s, en_word2idx, MAX_LEN_EN) for s in en_sentences]\n",
    "targets = [encode_sentence(s, es_word2idx, MAX_LEN_ES, is_target=True) for s in es_sentences]\n",
    "\n",
    "inputs_tensor = torch.tensor(inputs, dtype=torch.long)\n",
    "targets_tensor = torch.tensor(targets, dtype=torch.long)\n",
    "\n",
    "print(\"Inputs shape:\", inputs_tensor.shape)\n",
    "print(\"Targets shape:\", targets_tensor.shape)"
   ]
  },
  {
   "cell_type": "code",
   "execution_count": null,
   "id": "d26e525f",
   "metadata": {},
   "outputs": [],
   "source": [
    "class TranslationDataset(Dataset):\n",
    "    def __init__(self, inputs, targets):\n",
    "        self.inputs = inputs\n",
    "        self.targets = targets\n",
    "\n",
    "    def __len__(self):\n",
    "        return len(self.inputs)\n",
    "\n",
    "    def __getitem__(self, idx):\n",
    "        return {'src': self.inputs[idx], 'tgt': self.targets[idx]}\n",
    "\n",
    "train_len = int(0.8 * len(inputs_tensor))\n",
    "val_len = int(0.1 * len(inputs_tensor))\n",
    "test_len = len(inputs_tensor) - train_len - val_len\n",
    "\n",
    "train_set = TranslationDataset(inputs_tensor[:train_len], targets_tensor[:train_len])\n",
    "val_set = TranslationDataset(inputs_tensor[train_len:train_len+val_len], targets_tensor[train_len:train_len+val_len])\n",
    "test_set = TranslationDataset(inputs_tensor[-test_len:], targets_tensor[-test_len:])\n",
    "\n",
    "BATCH_SIZE = 128\n",
    "train_loader = DataLoader(train_set, batch_size=BATCH_SIZE, shuffle=True)\n",
    "val_loader = DataLoader(val_set, batch_size=BATCH_SIZE)\n",
    "test_loader = DataLoader(test_set, batch_size=BATCH_SIZE)"
   ]
  },
  {
   "cell_type": "code",
   "execution_count": null,
   "id": "7701b24c",
   "metadata": {},
   "outputs": [],
   "source": [
    "class Encoder(nn.Module):\n",
    "    def __init__(self, input_dim, emb_dim, hid_dim, n_layers=1, dropout=0.1):\n",
    "        super().__init__()\n",
    "        self.embedding = nn.Embedding(input_dim, emb_dim, padding_idx=en_word2idx[PAD_TOKEN])\n",
    "        self.rnn = nn.LSTM(emb_dim, hid_dim, n_layers, dropout=dropout, batch_first=True)\n",
    "        self.dropout = nn.Dropout(dropout)\n",
    "\n",
    "    def forward(self, src):\n",
    "        embedded = self.dropout(self.embedding(src))\n",
    "        outputs, (hidden, cell) = self.rnn(embedded)\n",
    "        return outputs, (hidden, cell)\n",
    "\n",
    "class Attention(nn.Module):\n",
    "    def __init__(self, hid_dim):\n",
    "        super().__init__()\n",
    "        self.attn = nn.Linear(hid_dim * 2, hid_dim)\n",
    "        self.v = nn.Linear(hid_dim, 1, bias=False)\n",
    "    \n",
    "    def forward(self, hidden, encoder_outputs):\n",
    "        hidden = hidden[-1].unsqueeze(1)\n",
    "                hidden_expanded = hidden.expand(-1, encoder_outputs.size(1), -1)\n",
    "        \n",
    "        energy = torch.tanh(self.attn(torch.cat((hidden_expanded, encoder_outputs), dim=2)))\n",
    "        attention = self.v(energy).squeeze(2)\n",
    "        \n",
    "        return torch.softmax(attention, dim=1)\n",
    "\n",
    "class Decoder(nn.Module):\n",
    "    def __init__(self, output_dim, emb_dim, hid_dim, n_layers=1, dropout=0.1):\n",
    "        super().__init__()\n",
    "        self.output_dim = output_dim\n",
    "        self.embedding = nn.Embedding(output_dim, emb_dim, padding_idx=es_word2idx[PAD_TOKEN])\n",
    "        self.attention = Attention(hid_dim)\n",
    "        self.rnn = nn.LSTM(emb_dim + hid_dim, hid_dim, n_layers, dropout=dropout, batch_first=True)\n",
    "        self.fc_out = nn.Linear(hid_dim * 2, output_dim)\n",
    "        self.dropout = nn.Dropout(dropout)\n",
    "    \n",
    "    def forward(self, input, hidden, cell, encoder_outputs):        \n",
    "        input = input.unsqueeze(1)  # [batch, 1]\n",
    "        embedded = self.dropout(self.embedding(input))  # [batch, 1, emb_dim]\n",
    "        \n",
    "        a = self.attention(hidden, encoder_outputs).unsqueeze(1)  # [batch, 1, seq_len]\n",
    "        \n",
    "        weighted = torch.bmm(a, encoder_outputs)  # [batch, 1, hid_dim]\n",
    "        \n",
    "        # Concatenate embedded input and weighted context\n",
    "        rnn_input = torch.cat((embedded, weighted), dim=2)  # [batch, 1, emb_dim + hid_dim]\n",
    "        \n",
    "        # Pass through LSTM\n",
    "        output, (hidden, cell) = self.rnn(rnn_input, (hidden, cell))  # output = [batch, 1, hid_dim]\n",
    "        \n",
    "        # Predict next token\n",
    "        prediction = self.fc_out(torch.cat((output.squeeze(1), weighted.squeeze(1)), dim=1))\n",
    "        \n",
    "        return prediction, hidden, cell\n",
    "class Seq2Seq(nn.Module):\n",
    "    def __init__(self, encoder, decoder, device):\n",
    "        super().__init__()\n",
    "        self.encoder = encoder\n",
    "        self.decoder = decoder\n",
    "        self.device = device\n",
    "        self.use_checkpoint = True\n",
    "    \n",
    "    def forward(self, src, trg, teacher_forcing_ratio=0.5):\n",
    "        batch_size = trg.shape[0]\n",
    "        trg_len = trg.shape[1]\n",
    "        trg_vocab_size = self.decoder.output_dim\n",
    "        \n",
    "        outputs = torch.zeros(batch_size, trg_len, trg_vocab_size).to(self.device)\n",
    "        encoder_outputs, (hidden, cell) = self.encoder(src)\n",
    "        \n",
    "        input = trg[:, 0]\n",
    "        \n",
    "        for t in range(1, trg_len):\n",
    "            if self.use_checkpoint:\n",
    "                output, hidden, cell = checkpoint(\n",
    "                    self._decoder_step,\n",
    "                    input, hidden, cell, encoder_outputs,\n",
    "                    use_reentrant=False\n",
    "                )\n",
    "            else:\n",
    "                output, hidden, cell = self.decoder(input, hidden, cell, encoder_outputs)\n",
    "                \n",
    "            outputs[:, t] = output\n",
    "            teacher_force = random.random() < teacher_forcing_ratio\n",
    "            top1 = output.argmax(1)\n",
    "            input = trg[:, t] if teacher_force else top1\n",
    "            \n",
    "        return outputs\n",
    "    \n",
    "    def _decoder_step(self, input, hidden, cell, encoder_outputs):\n",
    "        \"\"\"Helper function for checkpointing\"\"\"\n",
    "        return self.decoder(input, hidden, cell, encoder_outputs)\n"
   ]
  },
  {
   "cell_type": "code",
   "execution_count": null,
   "id": "89c55011",
   "metadata": {},
   "outputs": [
    {
     "name": "stdout",
     "output_type": "stream",
     "text": [
      "cuda\n"
     ]
    }
   ],
   "source": [
    "device = torch.device('cuda' if torch.cuda.is_available() else 'cpu')\n",
    "print(device)\n",
    "\n",
    "INPUT_DIM = len(en_word2idx)\n",
    "OUTPUT_DIM = len(es_word2idx)\n",
    "ENC_EMB_DIM = 256\n",
    "DEC_EMB_DIM = 256\n",
    "HID_DIM = 512\n",
    "N_LAYERS = 2\n",
    "ENC_DROPOUT = 0.1\n",
    "DEC_DROPOUT = 0.1\n",
    "\n",
    "encoder = Encoder(INPUT_DIM, ENC_EMB_DIM, HID_DIM, N_LAYERS, ENC_DROPOUT).to(device)\n",
    "decoder = Decoder(OUTPUT_DIM, DEC_EMB_DIM, HID_DIM, N_LAYERS, DEC_DROPOUT).to(device)\n",
    "model = Seq2Seq(encoder, decoder, device)\n",
    "model.use_checkpoint = True\n",
    "optimizer = optim.Adam(model.parameters(), lr=1e-3)\n",
    "criterion = nn.CrossEntropyLoss(ignore_index=es_word2idx[PAD_TOKEN])"
   ]
  },
  {
   "cell_type": "code",
   "execution_count": 11,
   "id": "749ae711",
   "metadata": {},
   "outputs": [
    {
     "name": "stderr",
     "output_type": "stream",
     "text": [
      "C:\\Users\\abhis\\AppData\\Local\\Temp\\ipykernel_25672\\209357084.py:4: FutureWarning: `torch.cuda.amp.GradScaler(args...)` is deprecated. Please use `torch.amp.GradScaler('cuda', args...)` instead.\n",
      "  scaler = GradScaler()\n"
     ]
    }
   ],
   "source": [
    "from torch.cuda.amp import autocast, GradScaler\n",
    "\n",
    "# Initialize gradient scaler\n",
    "scaler = GradScaler()\n",
    "\n",
    "# def train(model, dataloader, optimizer, criterion, device, epoch, total_epochs):\n",
    "#     model.train()\n",
    "#     epoch_loss = 0\n",
    "#     total_batches = len(dataloader)\n",
    "    \n",
    "#     progress_bar = tqdm(enumerate(dataloader), total=total_batches, \n",
    "#                        desc=f\"Epoch {epoch+1}/{total_epochs}\")\n",
    "    \n",
    "#     for i, batch in progress_bar:\n",
    "#         src = batch[\"src\"].to(device)\n",
    "#         trg = batch[\"tgt\"].to(device)\n",
    "        \n",
    "#         optimizer.zero_grad()\n",
    "        \n",
    "#         # Mixed precision forward pass\n",
    "#         with autocast():\n",
    "#             output = model(src, trg)\n",
    "#             output_dim = output.shape[-1]\n",
    "#             output = output[:, 1:].reshape(-1, output_dim)  # Skip <sos>\n",
    "#             trg = trg[:, 1:].reshape(-1)\n",
    "#             loss = criterion(output, trg)\n",
    "        \n",
    "#         # Scaled backward pass\n",
    "#         scaler.scale(loss).backward()\n",
    "        \n",
    "#         # Gradient clipping\n",
    "#         scaler.unscale_(optimizer)\n",
    "#         torch.nn.utils.clip_grad_norm_(model.parameters(), max_norm=1.0)\n",
    "        \n",
    "#         # Scaled optimizer step\n",
    "#         scaler.step(optimizer)\n",
    "#         scaler.update()\n",
    "        \n",
    "#         epoch_loss += loss.item()\n",
    "        \n",
    "#         # Update progress bar\n",
    "#         if (i + 1) % 10 == 0:\n",
    "#             progress_bar.set_postfix({\n",
    "#                 'loss': f'{epoch_loss/(i+1):.4f}',\n",
    "#                 'lr': optimizer.param_groups[0]['lr'],\n",
    "#                 'scale': f'{scaler.get_scale():.1f}'  # Show current scale factor\n",
    "#             })\n",
    "    \n",
    "#     return epoch_loss / total_batches\n",
    "def train(model, dataloader, optimizer, criterion, device, epoch, total_epochs):\n",
    "    model.train()\n",
    "    epoch_loss = 0\n",
    "    total_batches = len(dataloader)\n",
    "    batch_losses = []\n",
    "\n",
    "    progress_bar = tqdm(enumerate(dataloader), total=total_batches, desc=f\"Epoch {epoch+1}/{total_epochs}\")\n",
    "\n",
    "    for i, batch in progress_bar:\n",
    "        src = batch[\"src\"].to(device)\n",
    "        trg = batch[\"tgt\"].to(device)\n",
    "\n",
    "        optimizer.zero_grad()\n",
    "\n",
    "        with autocast():\n",
    "            output = model(src, trg)\n",
    "            output_dim = output.shape[-1]\n",
    "            output = output[:, 1:].reshape(-1, output_dim)\n",
    "            trg = trg[:, 1:].reshape(-1)\n",
    "            loss = criterion(output, trg)\n",
    "\n",
    "        scaler.scale(loss).backward()\n",
    "        scaler.unscale_(optimizer)\n",
    "        torch.nn.utils.clip_grad_norm_(model.parameters(), max_norm=1.0)\n",
    "        scaler.step(optimizer)\n",
    "        scaler.update()\n",
    "\n",
    "        epoch_loss += loss.item()\n",
    "        batch_losses.append(loss.item())\n",
    "\n",
    "        if (i + 1) % 10 == 0:\n",
    "            progress_bar.set_postfix({\n",
    "                'loss': f'{epoch_loss/(i+1):.4f}',\n",
    "                'lr': optimizer.param_groups[0]['lr'],\n",
    "                'scale': f'{scaler.get_scale():.1f}'\n",
    "            })\n",
    "\n",
    "    return epoch_loss / total_batches, batch_losses\n",
    "\n"
   ]
  },
  {
   "cell_type": "code",
   "execution_count": null,
   "id": "ceb2ed21",
   "metadata": {},
   "outputs": [],
   "source": [
    "def evaluate(model, dataloader, device):\n",
    "    model.eval()\n",
    "    all_preds = []\n",
    "    all_labels = []\n",
    "    \n",
    "    with torch.no_grad():\n",
    "        for batch in tqdm(dataloader, desc=\"Evaluating\"):\n",
    "            src = batch[\"src\"].to(device)\n",
    "            trg = batch[\"tgt\"].to(device)\n",
    "            \n",
    "            output = model(src, trg, teacher_forcing_ratio=0)\n",
    "            preds = output.argmax(dim=-1)\n",
    "            \n",
    "            for i in range(preds.shape[0]):\n",
    "                pred_tokens = [es_idx2word[idx.item()] for idx in preds[i] if idx not in [es_word2idx[PAD_TOKEN], es_word2idx[SOS_TOKEN], es_word2idx[EOS_TOKEN]]]\n",
    "                label_tokens = [es_idx2word[idx.item()] for idx in trg[i] if idx not in [es_word2idx[PAD_TOKEN], es_word2idx[SOS_TOKEN], es_word2idx[EOS_TOKEN]]]\n",
    "                \n",
    "                all_preds.append(\" \".join(pred_tokens))\n",
    "                all_labels.append([\" \".join(label_tokens)])\n",
    "    \n",
    "    bleu = corpus_bleu(all_preds, all_labels)\n",
    "    return bleu.score"
   ]
  },
  {
   "cell_type": "code",
   "execution_count": null,
   "id": "046d5633",
   "metadata": {},
   "outputs": [],
   "source": [
    "torch.backends.cudnn.benchmark = True"
   ]
  },
  {
   "cell_type": "markdown",
   "id": "ba92d4cb",
   "metadata": {},
   "source": [
    "debugging step because there were cuda errors arising and slow processing on cpu"
   ]
  },
  {
   "cell_type": "code",
   "execution_count": null,
   "id": "f02950aa",
   "metadata": {},
   "outputs": [
    {
     "name": "stdout",
     "output_type": "stream",
     "text": [
      "=== Forward Pass Benchmark ===\n",
      "<torch.utils.benchmark.utils.common.Measurement object at 0x0000021264ED8C90>\n",
      "Forward Pass\n",
      "  479.72 ms\n",
      "  1 measurement, 10 runs , 1 thread\n",
      "\n",
      "=== Full Training Step Benchmark ===\n",
      "<torch.utils.benchmark.utils.common.Measurement object at 0x00000212650B4ED0>\n",
      "Full Training Step\n",
      "  7.36 s\n",
      "  1 measurement, 5 runs , 1 thread\n"
     ]
    }
   ],
   "source": [
    "import torch.utils.benchmark as benchmark\n",
    "\n",
    "# Get a single batch\n",
    "sample_batch = next(iter(train_loader))\n",
    "src_sample = sample_batch[\"src\"].to(device)\n",
    "trg_sample = sample_batch[\"tgt\"].to(device)\n",
    "\n",
    "# Benchmark forward pass only\n",
    "print(\"=== Forward Pass Benchmark ===\")\n",
    "t0 = benchmark.Timer(\n",
    "    stmt='model(src, trg)',\n",
    "    globals={'model': model, 'src': src_sample, 'trg': trg_sample},\n",
    "    label=\"Forward Pass\"\n",
    ")\n",
    "print(t0.timeit(10))\n",
    "\n",
    "# Benchmark full training step (separate graph each time)\n",
    "print(\"\\n=== Full Training Step Benchmark ===\")\n",
    "t1 = benchmark.Timer(\n",
    "    stmt='''\n",
    "        optimizer.zero_grad()\n",
    "        output = model(src, trg)\n",
    "        loss = criterion(output[:,1:].reshape(-1, output.shape[-1]), trg[:,1:].reshape(-1))\n",
    "        loss.backward()\n",
    "        optimizer.step()\n",
    "    ''',\n",
    "    globals={'model': model, 'criterion': criterion, 'optimizer': optimizer, \n",
    "             'src': src_sample, 'trg': trg_sample},\n",
    "    label=\"Full Training Step\"\n",
    ")\n",
    "print(t1.timeit(5))"
   ]
  },
  {
   "cell_type": "code",
   "execution_count": null,
   "id": "9928aae3",
   "metadata": {},
   "outputs": [
    {
     "name": "stderr",
     "output_type": "stream",
     "text": [
      "Epoch 1/3:   0%|          | 0/94 [00:00<?, ?it/s]C:\\Users\\abhis\\AppData\\Local\\Temp\\ipykernel_25672\\209357084.py:64: FutureWarning: `torch.cuda.amp.autocast(args...)` is deprecated. Please use `torch.amp.autocast('cuda', args...)` instead.\n",
      "  with autocast():\n",
      "Epoch 1/3: 100%|██████████| 94/94 [06:10<00:00,  3.94s/it, loss=6.6534, lr=0.001, scale=65536.0]\n",
      "Evaluating: 100%|██████████| 12/12 [00:33<00:00,  2.76s/it]\n"
     ]
    },
    {
     "name": "stdout",
     "output_type": "stream",
     "text": [
      "\n",
      "Epoch 1 Summary:\n",
      "  Train Loss: 6.64707059\n",
      "  Val BLEU: 5.99767905\n",
      "  Time: 403.59s\n",
      "  Best model saved!\n"
     ]
    },
    {
     "name": "stderr",
     "output_type": "stream",
     "text": [
      "Epoch 2/3: 100%|██████████| 94/94 [06:15<00:00,  4.00s/it, loss=6.3971, lr=0.001, scale=65536.0]\n",
      "Evaluating: 100%|██████████| 12/12 [00:30<00:00,  2.57s/it]\n"
     ]
    },
    {
     "name": "stdout",
     "output_type": "stream",
     "text": [
      "\n",
      "Epoch 2 Summary:\n",
      "  Train Loss: 6.39701451\n",
      "  Val BLEU: 61.47881530\n",
      "  Time: 406.74s\n",
      "  Best model saved!\n"
     ]
    },
    {
     "name": "stderr",
     "output_type": "stream",
     "text": [
      "Epoch 3/3: 100%|██████████| 94/94 [06:10<00:00,  3.94s/it, loss=6.2645, lr=0.001, scale=65536.0]\n",
      "Evaluating: 100%|██████████| 12/12 [00:33<00:00,  2.81s/it]"
     ]
    },
    {
     "name": "stdout",
     "output_type": "stream",
     "text": [
      "\n",
      "Epoch 3 Summary:\n",
      "  Train Loss: 6.26436980\n",
      "  Val BLEU: 16.84320988\n",
      "  Time: 404.01s\n"
     ]
    },
    {
     "name": "stderr",
     "output_type": "stream",
     "text": [
      "\n"
     ]
    }
   ],
   "source": [
    "# EPOCHS = 3\n",
    "# best_bleu = 0\n",
    "\n",
    "# for epoch in range(EPOCHS):\n",
    "#     start_time = time.time()\n",
    "    \n",
    "#     # Train\n",
    "#     train_loss = train(model, train_loader, optimizer, criterion, device, epoch, EPOCHS)\n",
    "    \n",
    "#     # Evaluate\n",
    "#     val_bleu = evaluate(model, val_loader, device)\n",
    "    \n",
    "#     # Print epoch summary\n",
    "#     print(f\"\\nEpoch {epoch+1} Summary:\")\n",
    "#     print(f\"  Train Loss: {train_loss:.8f}\")\n",
    "#     print(f\"  Val BLEU: {val_bleu:.8f}\")\n",
    "#     print(f\"  Time: {time.time() - start_time:.8f}s\")\n",
    "    \n",
    "#     # Save best model\n",
    "#     if val_bleu > best_bleu:\n",
    "#         best_bleu = val_bleu\n",
    "#         torch.save(model.state_dict(), \"best_seq2seq_model.pt\")\n",
    "#         print(\"  Best model saved!\")\n",
    "EPOCHS = 3\n",
    "all_train_batch_losses = []\n",
    "epoch_train_losses = []\n",
    "val_bleus = []\n",
    "best_bleu = 0\n",
    "\n",
    "for epoch in range(EPOCHS):\n",
    "    start_time = time.time()\n",
    "    \n",
    "    # Train\n",
    "    train_loss, batch_losses = train(model, train_loader, optimizer, criterion, device, epoch, EPOCHS)\n",
    "    epoch_train_losses.append(train_loss)\n",
    "    all_train_batch_losses.extend(batch_losses)\n",
    "    \n",
    "    # Evaluate\n",
    "    val_bleu = evaluate(model, val_loader, device)\n",
    "    val_bleus.append(val_bleu)\n",
    "    \n",
    "    # Print\n",
    "    print(f\"\\nEpoch {epoch+1} Summary:\")\n",
    "    print(f\"  Train Loss: {train_loss:.8f}\")\n",
    "    print(f\"  Val BLEU: {val_bleu:.8f}\")\n",
    "    print(f\"  Time: {time.time() - start_time:.2f}s\")\n",
    "    \n",
    "    if val_bleu > best_bleu:\n",
    "        best_bleu = val_bleu\n",
    "        torch.save(model.state_dict(), \"best_seq2seq_model.pt\")\n",
    "        print(\"  Best model saved!\")\n"
   ]
  },
  {
   "cell_type": "code",
   "execution_count": null,
   "id": "248d3f49",
   "metadata": {},
   "outputs": [
    {
     "name": "stderr",
     "output_type": "stream",
     "text": [
      "C:\\Users\\abhis\\AppData\\Local\\Temp\\ipykernel_25672\\1853418835.py:2: FutureWarning: You are using `torch.load` with `weights_only=False` (the current default value), which uses the default pickle module implicitly. It is possible to construct malicious pickle data which will execute arbitrary code during unpickling (See https://github.com/pytorch/pytorch/blob/main/SECURITY.md#untrusted-models for more details). In a future release, the default value for `weights_only` will be flipped to `True`. This limits the functions that could be executed during unpickling. Arbitrary objects will no longer be allowed to be loaded via this mode unless they are explicitly allowlisted by the user via `torch.serialization.add_safe_globals`. We recommend you start setting `weights_only=True` for any use case where you don't have full control of the loaded file. Please open an issue on GitHub for any issues related to this experimental feature.\n",
      "  model.load_state_dict(torch.load(\"best_seq2seq_model.pt\"))\n",
      "Evaluating: 100%|██████████| 12/12 [00:32<00:00,  2.74s/it]"
     ]
    },
    {
     "name": "stdout",
     "output_type": "stream",
     "text": [
      "\n",
      "Final Test BLEU Score: 67.2432\n"
     ]
    },
    {
     "name": "stderr",
     "output_type": "stream",
     "text": [
      "\n"
     ]
    }
   ],
   "source": [
    "model.load_state_dict(torch.load(\"best_seq2seq_model.pt\"))\n",
    "test_bleu = evaluate(model, test_loader, device)\n",
    "print(f\"\\nFinal Test BLEU Score: {test_bleu:.4f}\")\n"
   ]
  },
  {
   "cell_type": "code",
   "execution_count": null,
   "id": "ce3bf819",
   "metadata": {},
   "outputs": [
    {
     "data": {
      "image/png": "[encoded data removed]",
      "text/plain": [
       "<Figure size 1000x500 with 1 Axes>"
      ]
     },
     "metadata": {},
     "output_type": "display_data"
    }
   ],
   "source": [
    "def moving_average(data, window_size=20):\n",
    "    return np.convolve(data, np.ones(window_size)/window_size, mode='valid')\n",
    "\n",
    "smoothed_losses = moving_average(all_train_batch_losses, window_size=20)\n",
    "\n",
    "plt.figure(figsize=(10, 5))\n",
    "plt.plot(smoothed_losses, color='orange')\n",
    "plt.title(\"Train Loss vs Batches (Smoothed)\")\n",
    "plt.xlabel(\"Batch Number\")\n",
    "plt.ylabel(\"Loss\")\n",
    "plt.grid(True)\n",
    "plt.show()\n"
   ]
  },
  {
   "cell_type": "code",
   "execution_count": null,
   "id": "3b2ad189",
   "metadata": {},
   "outputs": [
    {
     "data": {
      "image/png": "[encoded data removed]",
      "text/plain": [
       "<Figure size 600x500 with 1 Axes>"
      ]
     },
     "metadata": {},
     "output_type": "display_data"
    }
   ],
   "source": [
    "import matplotlib.pyplot as plt\n",
    "\n",
    "val_bleu = 61.4788\n",
    "test_bleu = 67.2432\n",
    "\n",
    "labels = ['Validation', 'Test']\n",
    "scores = [val_bleu, test_bleu]\n",
    "\n",
    "plt.figure(figsize=(6, 5))\n",
    "bars = plt.bar(labels, scores, color=['skyblue', 'salmon'])\n",
    "\n",
    "for bar in bars:\n",
    "    yval = bar.get_height()\n",
    "    plt.text(bar.get_x() + bar.get_width()/2.0, yval + 1, f'{yval:.2f}', ha='center', va='bottom', fontsize=12)\n",
    "\n",
    "plt.title(\"BLEU Score Comparison: Validation vs Test (With Attention)\")\n",
    "plt.ylabel(\"BLEU Score\")\n",
    "plt.ylim(0, max(scores) + 10)\n",
    "plt.grid(axis='y', linestyle='--', alpha=0.6)\n",
    "plt.show()\n"
   ]
  },
  {
   "cell_type": "code",
   "execution_count": null,
   "id": "b6a23cab",
   "metadata": {},
   "outputs": [
    {
     "data": {
      "image/png": "[encoded data removed]",
      "text/plain": [
       "<Figure size 800x500 with 1 Axes>"
      ]
     },
     "metadata": {},
     "output_type": "display_data"
    }
   ],
   "source": [
    "import matplotlib.pyplot as plt\n",
    "\n",
    "train_losses = [6.6534, 6.3971, 6.2645]\n",
    "epochs = [1, 2, 3]\n",
    "\n",
    "\n",
    "plt.figure(figsize=(8, 5))\n",
    "plt.plot(epochs, train_losses, marker='o', linestyle='-', color='darkorange')\n",
    "plt.title(\"Train Loss vs Epoch\")\n",
    "plt.xlabel(\"Epoch\")\n",
    "plt.ylabel(\"Train Loss\")\n",
    "plt.grid(True)\n",
    "plt.xticks(epochs)\n",
    "plt.ylim(min(train_losses) - 0.1, max(train_losses) + 0.1)\n",
    "plt.show()\n"
   ]
  },
  {
   "cell_type": "code",
   "execution_count": null,
   "id": "2df632d3",
   "metadata": {},
   "outputs": [],
   "source": []
  }
 ],
 "metadata": {
  "kernelspec": {
   "display_name": "Python 3",
   "language": "python",
   "name": "python3"
  },
  "language_info": {
   "codemirror_mode": {
    "name": "ipython",
    "version": 3
   },
   "file_extension": ".py",
   "mimetype": "text/x-python",
   "name": "python",
   "nbconvert_exporter": "python",
   "pygments_lexer": "ipython3",
   "version": "3.11.9"
  }
 },
 "nbformat": 4,
 "nbformat_minor": 5
}
