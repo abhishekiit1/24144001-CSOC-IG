{
 "cells": [
  {
   "cell_type": "code",
   "execution_count": 1,
   "id": "17195f24",
   "metadata": {},
   "outputs": [],
   "source": [
    "import pandas as pd\n",
    "import numpy as np\n",
    "import torch\n",
    "from sklearn.model_selection import train_test_split\n",
    "from torch.utils.data import Dataset, DataLoader\n",
    "from tensorflow.keras.preprocessing.sequence import pad_sequences\n",
    "import re\n",
    "from collections import Counter\n",
    "\n"
   ]
  },
  {
   "cell_type": "code",
   "execution_count": null,
   "id": "6d31b4b7",
   "metadata": {},
   "outputs": [
    {
     "name": "stdout",
     "output_type": "stream",
     "text": [
      "Unique polarity values: [0 1]\n",
      "Polarity dtype: int64\n",
      "                                      cleaned_review  \\\n",
      "0  the light bulb does not light anything, has a ...   \n",
      "1  i purchased the flowtron bf 190 replacement bu...   \n",
      "2  it doesn't work well in the hamilton beech sin...   \n",
      "3  it took me forever to get through this book. i...   \n",
      "4  this was a little of a deception, is smaller t...   \n",
      "\n",
      "                      title  polarity  \n",
      "0       PIAA SUPER LED BULB         0  \n",
      "1               unsatisfied         0  \n",
      "2  Refillable Coffee Filter         0  \n",
      "3         Not to our liking         0  \n",
      "4               Not so good         0  \n",
      "Dataset size: 799998\n"
     ]
    }
   ],
   "source": [
    "df = pd.read_csv(r\"C:\\Users\\abhis\\OneDrive\\Desktop\\week4\\Sequence Modelling Basics\\data\\cleaned_sampled_train.csv\")\n",
    "df = df.dropna(subset=['cleaned_review'])\n",
    "df = df[df['cleaned_review'].apply(lambda x: isinstance(x, str))]\n",
    "\n",
    "df['polarity'] = df['polarity'].map({1: 0, 2: 1})\n",
    "print(\"Unique polarity values:\", df['polarity'].unique())\n",
    "print(\"Polarity dtype:\", df['polarity'].dtype)\n",
    "print(df.head())\n",
    "print(f\"Dataset size: {len(df)}\")\n"
   ]
  },
  {
   "cell_type": "code",
   "execution_count": null,
   "id": "f94578db",
   "metadata": {},
   "outputs": [],
   "source": [
    "def simple_tokenizer(text):\n",
    "    if isinstance(text, str):\n",
    "        return text.lower().strip().split()\n",
    "    return []"
   ]
  },
  {
   "cell_type": "code",
   "execution_count": 4,
   "id": "a3ecd681",
   "metadata": {},
   "outputs": [
    {
     "name": "stdout",
     "output_type": "stream",
     "text": [
      "0    [the, light, bulb, does, not, light, anything,...\n",
      "1    [i, purchased, the, flowtron, bf, 190, replace...\n",
      "2    [it, doesn't, work, well, in, the, hamilton, b...\n",
      "3    [it, took, me, forever, to, get, through, this...\n",
      "4    [this, was, a, little, of, a, deception,, is, ...\n",
      "Name: tokens, dtype: object\n"
     ]
    }
   ],
   "source": [
    "def simple_tokenizer(text):\n",
    "    text = text.lower().strip()\n",
    "    tokens = text.split()\n",
    "    return tokens\n",
    "\n",
    "df['tokens'] = df['cleaned_review'].apply(simple_tokenizer)\n",
    "\n",
    "print(df['tokens'].head())\n"
   ]
  },
  {
   "cell_type": "code",
   "execution_count": null,
   "id": "63d05611",
   "metadata": {},
   "outputs": [
    {
     "name": "stdout",
     "output_type": "stream",
     "text": [
      "Vocabulary size (including PAD & UNK): 20000\n",
      "0    [2, 359, 3692, 107, 16, 359, 3498, 40, 5, 1024...\n",
      "1    [4, 201, 2, 1, 1, 1, 717, 3692, 19, 210, 10101...\n",
      "2    [10, 160, 130, 91, 11, 2, 6605, 1, 521, 2809, ...\n",
      "3    [10, 297, 58, 1814, 6, 51, 146, 8, 131, 10, 10...\n",
      "4    [8, 14, 5, 101, 7, 5, 1, 9, 1122, 64, 4, 1, 39...\n",
      "Name: indexed_tokens, dtype: object\n"
     ]
    }
   ],
   "source": [
    "from collections import Counter\n",
    "\n",
    "all_tokens = [token for tokens in df['tokens'] for token in tokens]\n",
    "token_counts = Counter(all_tokens)\n",
    "\n",
    "vocab_size = 20000\n",
    "most_common_tokens = token_counts.most_common(vocab_size - 2)\n",
    "\n",
    "PAD_TOKEN = \"<PAD>\"\n",
    "UNK_TOKEN = \"<UNK>\"\n",
    "\n",
    "word2idx = {PAD_TOKEN: 0, UNK_TOKEN: 1}\n",
    "for i, (word, _) in enumerate(most_common_tokens, start=2):\n",
    "    word2idx[word] = i\n",
    "\n",
    "print(f\"Vocabulary size (including PAD & UNK): {len(word2idx)}\")\n",
    "\n",
    "def tokens_to_indices(tokens):\n",
    "    return [word2idx.get(token, word2idx[UNK_TOKEN]) for token in tokens]\n",
    "\n",
    "df['indexed_tokens'] = df['tokens'].apply(tokens_to_indices)\n",
    "\n",
    "print(df['indexed_tokens'].head())\n"
   ]
  },
  {
   "cell_type": "code",
   "execution_count": null,
   "id": "ccfd22bf",
   "metadata": {},
   "outputs": [
    {
     "name": "stdout",
     "output_type": "stream",
     "text": [
      "0    [2, 359, 3692, 107, 16, 359, 3498, 40, 5, 1024...\n",
      "1    [4, 201, 2, 1, 1, 1, 717, 3692, 19, 210, 10101...\n",
      "2    [10, 160, 130, 91, 11, 2, 6605, 1, 521, 2809, ...\n",
      "3    [10, 297, 58, 1814, 6, 51, 146, 8, 131, 10, 10...\n",
      "4    [8, 14, 5, 101, 7, 5, 1, 9, 1122, 64, 4, 1, 39...\n",
      "Name: padded_tokens, dtype: object\n",
      "Padded sequences shape example: (150,)\n"
     ]
    }
   ],
   "source": [
    "from tensorflow.keras.preprocessing.sequence import pad_sequences\n",
    "\n",
    "max_len = 150\n",
    "\n",
    "df['padded_tokens'] = list(pad_sequences(df['indexed_tokens'], maxlen=max_len, padding='post', truncating='post'))\n",
    "\n",
    "print(df['padded_tokens'].head())\n",
    "print(f\"Padded sequences shape example: {df['padded_tokens'].iloc[0].shape}\")\n"
   ]
  },
  {
   "cell_type": "code",
   "execution_count": null,
   "id": "3b19185f",
   "metadata": {},
   "outputs": [
    {
     "name": "stdout",
     "output_type": "stream",
     "text": [
      "Sample batch shapes:\n",
      "Texts: torch.Size([128, 150])\n",
      "Labels: torch.Size([128])\n"
     ]
    }
   ],
   "source": [
    "import torch\n",
    "from torch.utils.data import Dataset, DataLoader\n",
    "\n",
    "class ReviewDataset(Dataset):\n",
    "    def __init__(self, texts, labels):\n",
    "        self.texts = torch.tensor(np.array(texts), dtype=torch.long)\n",
    "        self.labels = torch.tensor(labels.values, dtype=torch.float32)\n",
    "\n",
    "    def __len__(self):\n",
    "        return len(self.labels)\n",
    "\n",
    "    def __getitem__(self, idx):\n",
    "        return self.texts[idx], self.labels[idx]\n",
    "\n",
    "\n",
    "dataset = ReviewDataset(df['padded_tokens'].tolist(), df['polarity'])\n",
    "\n",
    "batch_size = 128\n",
    "dataloader = DataLoader(dataset, batch_size=batch_size, shuffle=True)\n",
    "\n",
    "sample_batch = next(iter(dataloader))\n",
    "print(\"Sample batch shapes:\")\n",
    "print(\"Texts:\", sample_batch[0].shape)\n",
    "print(\"Labels:\", sample_batch[1].shape)\n"
   ]
  },
  {
   "cell_type": "code",
   "execution_count": null,
   "id": "45c41f13",
   "metadata": {},
   "outputs": [
    {
     "name": "stdout",
     "output_type": "stream",
     "text": [
      "Sample batch shape (X): torch.Size([128, 150])\n",
      "Sample batch shape (y): torch.Size([128])\n"
     ]
    }
   ],
   "source": [
    "import torch\n",
    "from torch.utils.data import Dataset, DataLoader\n",
    "from sklearn.model_selection import train_test_split\n",
    "train_df, val_df = train_test_split(df, test_size=0.2, random_state=42, stratify=df['polarity'])\n",
    "\n",
    "class ReviewDataset(Dataset):\n",
    "    def __init__(self, texts, labels):\n",
    "        self.texts = torch.tensor(np.array(texts), dtype=torch.long)\n",
    "        self.labels = torch.tensor(labels.values, dtype=torch.float32)\n",
    "\n",
    "    def __len__(self):\n",
    "        return len(self.labels)\n",
    "\n",
    "    def __getitem__(self, idx):\n",
    "        return self.texts[idx], self.labels[idx]\n",
    "\n",
    "train_dataset = ReviewDataset(train_df['padded_tokens'].tolist(), train_df['polarity'])\n",
    "val_dataset = ReviewDataset(val_df['padded_tokens'].tolist(), val_df['polarity'])\n",
    "\n",
    "batch_size = 128\n",
    "train_loader = DataLoader(train_dataset, batch_size=batch_size, shuffle=True)\n",
    "val_loader = DataLoader(val_dataset, batch_size=batch_size, shuffle=False)\n",
    "\n",
    "sample_batch = next(iter(train_loader))\n",
    "print(\"Sample batch shape (X):\", sample_batch[0].shape)\n",
    "print(\"Sample batch shape (y):\", sample_batch[1].shape)\n"
   ]
  },
  {
   "cell_type": "code",
   "execution_count": null,
   "id": "63719c64",
   "metadata": {},
   "outputs": [
    {
     "name": "stdout",
     "output_type": "stream",
     "text": [
      "Sample batch shape (X): torch.Size([128, 150])\n",
      "Sample batch shape (y): torch.Size([128])\n"
     ]
    }
   ],
   "source": [
    "import torch\n",
    "from torch.utils.data import Dataset, DataLoader\n",
    "\n",
    "class ReviewDataset(Dataset):\n",
    "    def __init__(self, texts, labels):\n",
    "        self.texts = torch.tensor(np.array(texts), dtype=torch.long)\n",
    "        self.labels = torch.tensor(labels.values, dtype=torch.float32)\n",
    "\n",
    "    def __len__(self):\n",
    "        return len(self.labels)\n",
    "\n",
    "    def __getitem__(self, idx):\n",
    "        return self.texts[idx], self.labels[idx]\n",
    "\n",
    "train_dataset = ReviewDataset(train_df['padded_tokens'].tolist(), train_df['polarity'])\n",
    "val_dataset = ReviewDataset(val_df['padded_tokens'].tolist(), val_df['polarity'])\n",
    "\n",
    "batch_size = 128\n",
    "train_loader = DataLoader(train_dataset, batch_size=batch_size, shuffle=True)\n",
    "val_loader = DataLoader(val_dataset, batch_size=batch_size, shuffle=False)\n",
    "\n",
    "sample_batch = next(iter(train_loader))\n",
    "print(\"Sample batch shape (X):\", sample_batch[0].shape)\n",
    "print(\"Sample batch shape (y):\", sample_batch[1].shape)\n"
   ]
  },
  {
   "cell_type": "code",
   "execution_count": null,
   "id": "b12d10e0",
   "metadata": {},
   "outputs": [
    {
     "name": "stdout",
     "output_type": "stream",
     "text": [
      "Loading GloVe embeddings...\n",
      "Loaded 400000 word vectors from GloVe.\n",
      "Embedding matrix shape: (20000, 200)\n"
     ]
    }
   ],
   "source": [
    "glove_path = r\"C:\\Users\\abhis\\OneDrive\\Desktop\\week4\\Sequence Modelling Basics\\glove.6B.200d.txt\"\n",
    "\n",
    "embedding_dim = 200\n",
    "\n",
    "# now we will load the GloVe embeddings into a dictionary\n",
    "print(\"Loading GloVe embeddings...\")\n",
    "glove_embeddings = {}\n",
    "with open(glove_path, 'r', encoding='utf-8') as f:\n",
    "    for line in f:\n",
    "        values = line.strip().split()\n",
    "        word = values[0]\n",
    "        vector = np.asarray(values[1:], dtype='float32')\n",
    "        glove_embeddings[word] = vector\n",
    "print(f\"Loaded {len(glove_embeddings)} word vectors from GloVe.\")\n",
    "\n",
    "# Create embedding matrix\n",
    "embedding_matrix = np.zeros((len(word2idx), embedding_dim))\n",
    "\n",
    "for word, idx in word2idx.items():\n",
    "    if word in glove_embeddings:\n",
    "        embedding_matrix[idx] = glove_embeddings[word]\n",
    "    else:\n",
    "        # Random vector for OOV words\n",
    "        embedding_matrix[idx] = np.random.normal(scale=0.6, size=(embedding_dim,))\n",
    "\n",
    "print(\"Embedding matrix shape:\", embedding_matrix.shape)\n"
   ]
  },
  {
   "cell_type": "code",
   "execution_count": null,
   "id": "bbb4fef3",
   "metadata": {},
   "outputs": [],
   "source": [
    "import torch.nn as nn\n",
    "\n",
    "class LSTMClassifier(nn.Module):\n",
    "    def __init__(self, embedding_matrix, hidden_dim, num_layers, dropout):\n",
    "        super().__init__()\n",
    "        num_embeddings, embedding_dim = embedding_matrix.shape\n",
    "        self.embedding = nn.Embedding(num_embeddings, embedding_dim, padding_idx=0)\n",
    "        self.embedding.weight.data.copy_(torch.from_numpy(embedding_matrix))\n",
    "        self.embedding.weight.requires_grad = True  # frozen embeddings\n",
    "        \n",
    "        self.lstm = nn.LSTM(embedding_dim, hidden_dim, num_layers=num_layers,\n",
    "                            batch_first=True, dropout=dropout, bidirectional=False)\n",
    "        self.dropout = nn.Dropout(dropout)\n",
    "        self.fc = nn.Linear(hidden_dim, 1)\n",
    "        self.sigmoid = nn.Sigmoid()\n",
    "\n",
    "    def forward(self, x):\n",
    "        x = self.embedding(x)\n",
    "        out, _ = self.lstm(x)\n",
    "        out = out[:, -1, :]\n",
    "        out = self.dropout(out)\n",
    "        return self.sigmoid(self.fc(out)).squeeze(1)\n"
   ]
  },
  {
   "cell_type": "code",
   "execution_count": 12,
   "id": "4e26141d",
   "metadata": {},
   "outputs": [
    {
     "name": "stdout",
     "output_type": "stream",
     "text": [
      "Using device: cuda\n"
     ]
    }
   ],
   "source": [
    "device = torch.device(\"cuda\" if torch.cuda.is_available() else \"cpu\")\n",
    "print(\"Using device:\", device)"
   ]
  },
  {
   "cell_type": "code",
   "execution_count": 13,
   "id": "dc2dc590",
   "metadata": {},
   "outputs": [
    {
     "name": "stderr",
     "output_type": "stream",
     "text": [
      "C:\\Users\\abhis\\AppData\\Local\\Packages\\PythonSoftwareFoundation.Python.3.11_qbz5n2kfra8p0\\LocalCache\\local-packages\\Python311\\site-packages\\torch\\nn\\modules\\rnn.py:123: UserWarning: dropout option adds dropout after all but last recurrent layer, so non-zero dropout expects num_layers greater than 1, but got dropout=0.3 and num_layers=1\n",
      "  warnings.warn(\n"
     ]
    }
   ],
   "source": [
    "# Hyperparameters\n",
    "hidden_dim = 256\n",
    "num_layers = 1\n",
    "dropout = 0.3\n",
    "learning_rate = 1e-3\n",
    "\n",
    "# Initialize model with pre-trained embeddings\n",
    "model = LSTMClassifier(embedding_matrix, hidden_dim, num_layers, dropout).to(device)\n",
    "\n",
    "# Loss and optimizer\n",
    "criterion = nn.BCELoss()\n",
    "optimizer = torch.optim.Adam(filter(lambda p: p.requires_grad, model.parameters()), lr=learning_rate)\n"
   ]
  },
  {
   "cell_type": "code",
   "execution_count": 14,
   "id": "1f70e6b0",
   "metadata": {},
   "outputs": [
    {
     "name": "stdout",
     "output_type": "stream",
     "text": [
      "Epoch 1/10 - Train Loss: 0.3201, Train Acc: 0.8407 | Val Loss: 0.2127, Val Acc: 0.9148\n",
      "Epoch 2/10 - Train Loss: 0.1858, Train Acc: 0.9283 | Val Loss: 0.1971, Val Acc: 0.9239\n",
      "Epoch 3/10 - Train Loss: 0.1513, Train Acc: 0.9433 | Val Loss: 0.2009, Val Acc: 0.9230\n",
      "Epoch 4/10 - Train Loss: 0.1188, Train Acc: 0.9572 | Val Loss: 0.2083, Val Acc: 0.9229\n",
      "Epoch 5/10 - Train Loss: 0.0889, Train Acc: 0.9695 | Val Loss: 0.2450, Val Acc: 0.9193\n",
      "Epoch 6/10 - Train Loss: 0.0667, Train Acc: 0.9782 | Val Loss: 0.2528, Val Acc: 0.9167\n",
      "Epoch 7/10 - Train Loss: 0.0524, Train Acc: 0.9834 | Val Loss: 0.2997, Val Acc: 0.9162\n",
      "Epoch 8/10 - Train Loss: 0.0432, Train Acc: 0.9867 | Val Loss: 0.3431, Val Acc: 0.9153\n",
      "Epoch 9/10 - Train Loss: 0.0366, Train Acc: 0.9888 | Val Loss: 0.3449, Val Acc: 0.9122\n",
      "Epoch 10/10 - Train Loss: 0.0323, Train Acc: 0.9902 | Val Loss: 0.3584, Val Acc: 0.9117\n"
     ]
    }
   ],
   "source": [
    "num_epochs = 10\n",
    "\n",
    "train_losses, val_losses, train_accs, val_accs = [], [], [], []\n",
    "\n",
    "for epoch in range(num_epochs):\n",
    "    model.train()\n",
    "    running_loss, correct, total = 0, 0, 0\n",
    "    \n",
    "    for x, y in train_loader:\n",
    "        x, y = x.to(device), y.to(device)\n",
    "        \n",
    "        optimizer.zero_grad()\n",
    "        outputs = model(x)\n",
    "        loss = criterion(outputs, y)\n",
    "        loss.backward()\n",
    "        optimizer.step()\n",
    "        \n",
    "        running_loss += loss.item()\n",
    "        preds = (outputs >= 0.5).float()\n",
    "        correct += (preds == y).sum().item()\n",
    "        total += y.size(0)\n",
    "        \n",
    "    train_acc = correct / total\n",
    "    train_losses.append(running_loss / len(train_loader))\n",
    "    train_accs.append(train_acc)\n",
    "    \n",
    "    # Validation\n",
    "    model.eval()\n",
    "    val_loss, val_correct, val_total = 0, 0, 0\n",
    "    \n",
    "    with torch.no_grad():\n",
    "        for x_val, y_val in val_loader:\n",
    "            x_val, y_val = x_val.to(device), y_val.to(device)\n",
    "            val_outputs = model(x_val)\n",
    "            loss = criterion(val_outputs, y_val)\n",
    "            val_loss += loss.item()\n",
    "            \n",
    "            val_preds = (val_outputs >= 0.5).float()\n",
    "            val_correct += (val_preds == y_val).sum().item()\n",
    "            val_total += y_val.size(0)\n",
    "            \n",
    "    val_acc = val_correct / val_total\n",
    "    val_losses.append(val_loss / len(val_loader))\n",
    "    val_accs.append(val_acc)\n",
    "    \n",
    "    print(f\"Epoch {epoch+1}/{num_epochs} - Train Loss: {train_losses[-1]:.4f}, Train Acc: {train_acc:.4f} | Val Loss: {val_losses[-1]:.4f}, Val Acc: {val_acc:.4f}\")\n"
   ]
  },
  {
   "cell_type": "code",
   "execution_count": null,
   "id": "4b38d519",
   "metadata": {},
   "outputs": [],
   "source": [
    "from sklearn.metrics import accuracy_score, precision_score, recall_score, f1_score, confusion_matrix, roc_auc_score, average_precision_score\n",
    "from sklearn.metrics import roc_curve, precision_recall_curve\n",
    "import matplotlib.pyplot as plt\n",
    "import torch\n",
    "\n",
    "def evaluate_model(model, dataloader, device, set_name=\"Set\"):\n",
    "    model.eval()\n",
    "    all_labels = []\n",
    "    all_preds = []\n",
    "    all_probs = []\n",
    "\n",
    "    with torch.no_grad():\n",
    "        for texts, labels in dataloader:\n",
    "            texts, labels = texts.to(device), labels.to(device)\n",
    "\n",
    "            outputs = model(texts).squeeze()\n",
    "\n",
    "            if torch.max(outputs) > 1 or torch.min(outputs) < 0:\n",
    "                probs = torch.sigmoid(outputs)\n",
    "            else:\n",
    "                probs = outputs\n",
    "\n",
    "            preds = (probs >= 0.5).float()\n",
    "\n",
    "            all_labels.extend(labels.cpu().numpy())\n",
    "            all_preds.extend(preds.cpu().numpy())\n",
    "            all_probs.extend(probs.cpu().numpy())\n",
    "\n",
    "    acc = accuracy_score(all_labels, all_preds)\n",
    "    prec = precision_score(all_labels, all_preds, zero_division=0)\n",
    "    rec = recall_score(all_labels, all_preds, zero_division=0)\n",
    "    f1 = f1_score(all_labels, all_preds, zero_division=0)\n",
    "    cm = confusion_matrix(all_labels, all_preds)\n",
    "    roc_auc = roc_auc_score(all_labels, all_probs)\n",
    "    pr_auc = average_precision_score(all_labels, all_probs)\n",
    "\n",
    "    print(f\"\\nEvaluation on {set_name}:\")\n",
    "    print(f\"Accuracy       : {acc:.4f}\")\n",
    "    print(f\"Precision      : {prec:.4f}\")\n",
    "    print(f\"Recall         : {rec:.4f}\")\n",
    "    print(f\"F1 Score       : {f1:.4f}\")\n",
    "    print(f\"ROC AUC        : {roc_auc:.4f}\")\n",
    "    print(f\"PR AUC         : {pr_auc:.4f}\")\n",
    "    print(f\"Confusion Matrix:\\n{cm}\")\n",
    "\n",
    "    fpr, tpr, _ = roc_curve(all_labels, all_probs)\n",
    "    plt.figure(figsize=(12,5))\n",
    "    \n",
    "    plt.subplot(1, 2, 1)\n",
    "    plt.plot(fpr, tpr, label=f'ROC curve (area = {roc_auc:.4f})')\n",
    "    plt.plot([0, 1], [0, 1], 'k--', label='Random guess')\n",
    "    plt.xlabel('False Positive Rate')\n",
    "    plt.ylabel('True Positive Rate')\n",
    "    plt.title(f'ROC Curve - {set_name}')\n",
    "    plt.legend(loc='lower right')\n",
    "    plt.grid(True)\n",
    "\n",
    "    precision, recall, _ = precision_recall_curve(all_labels, all_probs)\n",
    "    plt.subplot(1, 2, 2)\n",
    "    plt.plot(recall, precision, label=f'PR curve (area = {pr_auc:.4f})')\n",
    "    plt.xlabel('Recall')\n",
    "    plt.ylabel('Precision')\n",
    "    plt.title(f'Precision-Recall Curve - {set_name}')\n",
    "    plt.legend(loc='lower left')\n",
    "    plt.grid(True)\n",
    "\n",
    "    plt.tight_layout()\n",
    "    plt.show()\n",
    "\n",
    "    return {\n",
    "        \"accuracy\": acc,\n",
    "        \"precision\": prec,\n",
    "        \"recall\": rec,\n",
    "        \"f1\": f1,\n",
    "        \"roc_auc\": roc_auc,\n",
    "        \"pr_auc\": pr_auc,\n",
    "        \"confusion_matrix\": cm\n",
    "    }\n"
   ]
  },
  {
   "cell_type": "markdown",
   "id": "7ca3d5ed",
   "metadata": {},
   "source": [
    "# test"
   ]
  },
  {
   "cell_type": "code",
   "execution_count": null,
   "id": "f2cae03e",
   "metadata": {},
   "outputs": [
    {
     "name": "stdout",
     "output_type": "stream",
     "text": [
      "Unique polarity values: [0 1]\n",
      "Polarity dtype: int64\n",
      "                                      cleaned_review  \\\n",
      "0  i did not receive the item number i ordered. t...   \n",
      "1  good game. i got a lot of items, and i beat th...   \n",
      "2  i did not receive the book in my kindle, i hav...   \n",
      "3  i've had this grill for a year..but it stopped...   \n",
      "4  benny hinn's approach to the topic is unbiblic...   \n",
      "\n",
      "                           title  polarity  \n",
      "0  Not the exact same item shown         0  \n",
      "1                      beyplayer         0  \n",
      "2                      the worst         0  \n",
      "3             broke after a year         0  \n",
      "4      Bad Theololgy at its best         0  \n",
      "Dataset size: 385767\n"
     ]
    }
   ],
   "source": [
    "df_test = pd.read_csv(r\"C:\\Users\\abhis\\OneDrive\\Desktop\\week4\\Sequence Modelling Basics\\data\\cleaned_sampled_test.csv\")\n",
    "\n",
    "df_test['polarity'] = df_test['polarity'].map({1: 0, 2: 1})\n",
    "print(\"Unique polarity values:\", df_test['polarity'].unique())\n",
    "print(\"Polarity dtype:\", df_test['polarity'].dtype)\n",
    "\n",
    "print(df_test.head())\n",
    "print(f\"Dataset size: {len(df_test)}\")"
   ]
  },
  {
   "cell_type": "code",
   "execution_count": 17,
   "id": "9f491c06",
   "metadata": {},
   "outputs": [
    {
     "name": "stdout",
     "output_type": "stream",
     "text": [
      "Class distribution in test set:\n",
      "polarity\n",
      "0    193368\n",
      "1    192399\n",
      "Name: count, dtype: int64\n"
     ]
    }
   ],
   "source": [
    "print(\"Class distribution in test set:\")\n",
    "print(df_test['polarity'].value_counts())"
   ]
  },
  {
   "cell_type": "markdown",
   "id": "fc8618e7",
   "metadata": {},
   "source": [
    "# we see that its not imbalanced\n"
   ]
  },
  {
   "cell_type": "code",
   "execution_count": 18,
   "id": "5c95c5cb",
   "metadata": {},
   "outputs": [
    {
     "name": "stdout",
     "output_type": "stream",
     "text": [
      "0    [i, did, not, receive, the, item, number, i, o...\n",
      "1    [good, game., i, got, a, lot, of, items,, and,...\n",
      "2    [i, did, not, receive, the, book, in, my, kind...\n",
      "3    [i've, had, this, grill, for, a, year..but, it...\n",
      "4    [benny, hinn's, approach, to, the, topic, is, ...\n",
      "Name: tokens, dtype: object\n"
     ]
    }
   ],
   "source": [
    "def simple_tokenizer(text):\n",
    "    text = text.lower().strip()\n",
    "    tokens = text.split()\n",
    "    return tokens\n",
    "\n",
    "df_test['tokens'] = df_test['cleaned_review'].apply(simple_tokenizer)\n",
    "\n",
    "print(df_test['tokens'].head())\n"
   ]
  },
  {
   "cell_type": "code",
   "execution_count": 19,
   "id": "0b130222",
   "metadata": {},
   "outputs": [],
   "source": [
    "import pickle\n",
    "with open(r'C:\\Users\\abhis\\OneDrive\\Desktop\\week4\\Sequence Modelling Basics\\word2idx.pkl', 'rb') as f:\n",
    "    word2idx = pickle.load(f)\n"
   ]
  },
  {
   "cell_type": "code",
   "execution_count": 20,
   "id": "f08b23c4",
   "metadata": {},
   "outputs": [
    {
     "name": "stdout",
     "output_type": "stream",
     "text": [
      "0    [4, 104, 16, 1337, 2, 332, 630, 4, 4894, 8, 9,...\n",
      "1    [41, 835, 4, 113, 5, 169, 7, 7687, 3, 4, 979, ...\n",
      "2    [4, 104, 16, 1337, 2, 24, 11, 21, 12778, 4, 20...\n",
      "3    [126, 43, 8, 2713, 12, 5, 1, 10, 704, 1926, 1,...\n",
      "4    [16200, 1, 1598, 6, 2, 2321, 9, 1, 18878, 3, 1...\n",
      "Name: indexed_tokens, dtype: object\n"
     ]
    }
   ],
   "source": [
    "def tokens_to_indices(tokens):\n",
    "    return [word2idx.get(token, word2idx[\"<UNK>\"]) for token in tokens]\n",
    "\n",
    "# Apply it to test set\n",
    "df_test['indexed_tokens'] = df_test['tokens'].apply(tokens_to_indices)\n",
    "print(df_test['indexed_tokens'].head())\n"
   ]
  },
  {
   "cell_type": "code",
   "execution_count": 21,
   "id": "edec4e50",
   "metadata": {},
   "outputs": [
    {
     "name": "stdout",
     "output_type": "stream",
     "text": [
      "0    [4, 104, 16, 1337, 2, 332, 630, 4, 4894, 8, 9,...\n",
      "1    [41, 835, 4, 113, 5, 169, 7, 7687, 3, 4, 979, ...\n",
      "2    [4, 104, 16, 1337, 2, 24, 11, 21, 12778, 4, 20...\n",
      "3    [126, 43, 8, 2713, 12, 5, 1, 10, 704, 1926, 1,...\n",
      "4    [16200, 1, 1598, 6, 2, 2321, 9, 1, 18878, 3, 1...\n",
      "Name: padded_tokens, dtype: object\n"
     ]
    }
   ],
   "source": [
    "from tensorflow.keras.preprocessing.sequence import pad_sequences\n",
    "\n",
    "max_len = 150  # same as used in train\n",
    "\n",
    "df_test['padded_tokens'] = list(pad_sequences(df_test['indexed_tokens'], maxlen=max_len, padding='post', truncating='post'))\n",
    "print(df_test['padded_tokens'].head())\n"
   ]
  },
  {
   "cell_type": "code",
   "execution_count": 22,
   "id": "c166a3bd",
   "metadata": {},
   "outputs": [],
   "source": [
    "import torch\n",
    "from torch.utils.data import Dataset\n",
    "\n",
    "class ReviewDataset(Dataset):\n",
    "    def __init__(self, texts, labels):\n",
    "        self.texts = torch.tensor(np.array(texts), dtype=torch.long)\n",
    "        self.labels = torch.tensor(labels.values, dtype=torch.float32)\n",
    "\n",
    "    def __len__(self):\n",
    "        return len(self.labels)\n",
    "\n",
    "    def __getitem__(self, idx):\n",
    "        return self.texts[idx], self.labels[idx]\n"
   ]
  },
  {
   "cell_type": "code",
   "execution_count": 23,
   "id": "2ada9f7b",
   "metadata": {},
   "outputs": [],
   "source": [
    "df_test['padded_tokens'] = list(pad_sequences(df_test['indexed_tokens'], maxlen=max_len, padding='post', truncating='post'))\n"
   ]
  },
  {
   "cell_type": "code",
   "execution_count": 24,
   "id": "77ba3155",
   "metadata": {},
   "outputs": [
    {
     "name": "stdout",
     "output_type": "stream",
     "text": [
      "Test batch shapes: torch.Size([128, 150]) torch.Size([128])\n"
     ]
    }
   ],
   "source": [
    "# Create test dataset and dataloader\n",
    "test_dataset = ReviewDataset(df_test['padded_tokens'].tolist(), df_test['polarity'])\n",
    "test_loader = DataLoader(test_dataset, batch_size=128, shuffle=False)\n",
    "\n",
    "# Sanity check\n",
    "sample_test_batch = next(iter(test_loader))\n",
    "print(\"Test batch shapes:\", sample_test_batch[0].shape, sample_test_batch[1].shape)\n"
   ]
  },
  {
   "cell_type": "code",
   "execution_count": null,
   "id": "ba314767",
   "metadata": {},
   "outputs": [
    {
     "name": "stdout",
     "output_type": "stream",
     "text": [
      "\n",
      "Evaluation on Test Set:\n",
      "Accuracy       : 0.5825\n",
      "Precision      : 0.5739\n",
      "Recall         : 0.6321\n",
      "F1 Score       : 0.6016\n",
      "ROC AUC        : 0.6092\n",
      "PR AUC         : 0.5863\n",
      "Confusion Matrix:\n",
      "[[103081  90287]\n",
      " [ 70775 121624]]\n"
     ]
    },
    {
     "data": {
      "image/png": "[encoded data removed]",
      "text/plain": [
       "<Figure size 1200x500 with 2 Axes>"
      ]
     },
     "metadata": {},
     "output_type": "display_data"
    },
    {
     "name": "stdout",
     "output_type": "stream",
     "text": [
      "\n",
      "Classification Report on Test Set:\n",
      "              precision    recall  f1-score   support\n",
      "\n",
      "         0.0     0.5929    0.5331    0.5614    193368\n",
      "         1.0     0.5739    0.6321    0.6016    192399\n",
      "\n",
      "    accuracy                         0.5825    385767\n",
      "   macro avg     0.5834    0.5826    0.5815    385767\n",
      "weighted avg     0.5834    0.5825    0.5815    385767\n",
      "\n"
     ]
    }
   ],
   "source": [
    "#evaluate on test set\n",
    "test_metrics = evaluate_model(model, test_loader, device, set_name=\"Test Set\")\n",
    "\n",
    "# You can also optionally print a detailed classification report:\n",
    "from sklearn.metrics import classification_report\n",
    "\n",
    "all_labels = []\n",
    "all_preds = []\n",
    "model.eval()\n",
    "with torch.no_grad():\n",
    "    for texts, labels in test_loader:\n",
    "        texts, labels = texts.to(device), labels.to(device)\n",
    "        outputs = model(texts).squeeze()\n",
    "        probs = torch.sigmoid(outputs) if (torch.max(outputs) > 1 or torch.min(outputs) < 0) else outputs\n",
    "        preds = (probs >= 0.5).float()\n",
    "        all_labels.extend(labels.cpu().numpy())\n",
    "        all_preds.extend(preds.cpu().numpy())\n",
    "\n",
    "print(\"\\nClassification Report on Test Set:\")\n",
    "print(classification_report(all_labels, all_preds, digits=4))\n"
   ]
  },
  {
   "cell_type": "code",
   "execution_count": null,
   "id": "95d5cb3a",
   "metadata": {},
   "outputs": [
    {
     "data": {
      "image/png": "[encoded data removed]",
      "text/plain": [
       "<Figure size 800x600 with 1 Axes>"
      ]
     },
     "metadata": {},
     "output_type": "display_data"
    }
   ],
   "source": [
    "import seaborn as sns\n",
    "import matplotlib.pyplot as plt\n",
    "import numpy as np\n",
    "\n",
    "cm = np.array([[103081,  90287],\n",
    "               [ 70775, 121624]]) #Had to plot confusion matrix this way as i did not want to re run the evaluation function just to get the confusion matrix :)\n",
    "\n",
    "def plot_confusion_matrix(cm, title, ax):\n",
    "    sns.heatmap(cm, annot=True, fmt='d', cmap='Blues', cbar=False,\n",
    "                xticklabels=['Negative', 'Positive'],\n",
    "                yticklabels=['Negative', 'Positive'],\n",
    "                ax=ax)\n",
    "    ax.set_xlabel('Predicted')\n",
    "    ax.set_ylabel('Actual')\n",
    "    ax.set_title(title)\n",
    "\n",
    "# Create single plot\n",
    "fig, ax = plt.subplots(figsize=(8, 6))\n",
    "plot_confusion_matrix(cm, \"Test Set for glove implementation(Frozen embeddings)\", ax)\n",
    "plt.tight_layout()\n",
    "plt.show()"
   ]
  },
  {
   "cell_type": "code",
   "execution_count": null,
   "id": "29774ed7",
   "metadata": {},
   "outputs": [],
   "source": []
  }
 ],
 "metadata": {
  "kernelspec": {
   "display_name": "Python 3",
   "language": "python",
   "name": "python3"
  },
  "language_info": {
   "codemirror_mode": {
    "name": "ipython",
    "version": 3
   },
   "file_extension": ".py",
   "mimetype": "text/x-python",
   "name": "python",
   "nbconvert_exporter": "python",
   "pygments_lexer": "ipython3",
   "version": "3.11.9"
  }
 },
 "nbformat": 4,
 "nbformat_minor": 5
}
