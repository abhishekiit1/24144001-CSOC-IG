{
 "cells": [
  {
   "cell_type": "code",
   "execution_count": 41,
   "id": "30eb4921",
   "metadata": {},
   "outputs": [
    {
     "name": "stdout",
     "output_type": "stream",
     "text": [
      "Using device: cuda\n"
     ]
    }
   ],
   "source": [
    "import pandas as pd\n",
    "import torch\n",
    "import torch.nn as nn\n",
    "import torch.optim as optim\n",
    "from torch.utils.data import Dataset, DataLoader\n",
    "from tensorflow.keras.preprocessing.sequence import pad_sequences\n",
    "import pickle\n",
    "\n",
    "# Device setup\n",
    "device = torch.device(\"cuda\" if torch.cuda.is_available() else \"cpu\")\n",
    "print(\"Using device:\", device)\n"
   ]
  },
  {
   "cell_type": "code",
   "execution_count": 42,
   "id": "088f11d3",
   "metadata": {},
   "outputs": [
    {
     "name": "stdout",
     "output_type": "stream",
     "text": [
      "Unique polarity values after mapping: [0 1]\n",
      "Dataset size: 100000\n"
     ]
    }
   ],
   "source": [
    "# Load CSV (your sampled cleaned train data)\n",
    "df = pd.read_csv(r\"C:\\Users\\abhis\\OneDrive\\Desktop\\week4\\Sequence Modelling Basics\\data\\cleaned_sampled_train.csv\")\n",
    "\n",
    "# Map polarity labels to 0 and 1 (for BCE loss)\n",
    "df['polarity'] = df['polarity'].map({1: 0, 2: 1})\n",
    "\n",
    "print(\"Unique polarity values after mapping:\", df['polarity'].unique())\n",
    "print(f\"Dataset size: {len(df)}\")\n"
   ]
  },
  {
   "cell_type": "code",
   "execution_count": 43,
   "id": "be9c2339",
   "metadata": {},
   "outputs": [
    {
     "name": "stdout",
     "output_type": "stream",
     "text": [
      "Loaded vocab size: 20000\n"
     ]
    }
   ],
   "source": [
    "# Simple tokenizer function\n",
    "def simple_tokenizer(text):\n",
    "    return text.lower().strip().split()\n",
    "\n",
    "df['tokens'] = df['cleaned_review'].apply(simple_tokenizer)\n",
    "\n",
    "# Load vocabulary (word2idx dict)\n",
    "with open(r'C:\\Users\\abhis\\OneDrive\\Desktop\\week4\\Sequence Modelling Basics\\word2idx.pkl', 'rb') as f:\n",
    "    word2idx = pickle.load(f)\n",
    "\n",
    "print(f\"Loaded vocab size: {len(word2idx)}\")\n"
   ]
  },
  {
   "cell_type": "code",
   "execution_count": 44,
   "id": "e5c07bbc",
   "metadata": {},
   "outputs": [
    {
     "name": "stdout",
     "output_type": "stream",
     "text": [
      "                                       padded_tokens  polarity\n",
      "0  [2, 355, 3981, 108, 16, 355, 3291, 40, 5, 1026...         0\n",
      "1  [4, 200, 2, 1, 1, 1, 714, 3981, 19, 209, 11078...         0\n",
      "2  [10, 160, 127, 91, 11, 2, 6168, 1, 527, 2875, ...         0\n",
      "3  [10, 295, 58, 1918, 6, 51, 143, 8, 132, 10, 10...         0\n",
      "4  [8, 14, 5, 99, 7, 5, 1, 9, 1137, 67, 4, 1, 39,...         0\n"
     ]
    }
   ],
   "source": [
    "# Convert tokens to indices (with UNK fallback)\n",
    "def tokens_to_indices(tokens):\n",
    "    return [word2idx.get(token, word2idx['<UNK>']) for token in tokens]\n",
    "\n",
    "df['indexed_tokens'] = df['tokens'].apply(tokens_to_indices)\n",
    "\n",
    "# Pad sequences to max length\n",
    "max_len = 150\n",
    "df['padded_tokens'] = list(pad_sequences(df['indexed_tokens'], maxlen=max_len, padding='post', truncating='post'))\n",
    "\n",
    "print(df[['padded_tokens', 'polarity']].head())\n"
   ]
  },
  {
   "cell_type": "code",
   "execution_count": 45,
   "id": "c2588a36",
   "metadata": {},
   "outputs": [
    {
     "name": "stdout",
     "output_type": "stream",
     "text": [
      "Batch text shape: torch.Size([128, 150])\n",
      "Batch label shape: torch.Size([128])\n"
     ]
    }
   ],
   "source": [
    "class ReviewDataset(Dataset):\n",
    "    def __init__(self, texts, labels):\n",
    "        self.texts = torch.tensor(texts, dtype=torch.long)\n",
    "        self.labels = torch.tensor(labels.values, dtype=torch.float32)\n",
    "        \n",
    "    def __len__(self):\n",
    "        return len(self.labels)\n",
    "    \n",
    "    def __getitem__(self, idx):\n",
    "        return self.texts[idx], self.labels[idx]\n",
    "\n",
    "# Create Dataset and DataLoader\n",
    "batch_size = 128\n",
    "dataset = ReviewDataset(df['padded_tokens'].tolist(), df['polarity'])\n",
    "train_loader = DataLoader(dataset, batch_size=batch_size, shuffle=True)\n",
    "\n",
    "# Check batch shapes\n",
    "texts, labels = next(iter(train_loader))\n",
    "print(\"Batch text shape:\", texts.shape)\n",
    "print(\"Batch label shape:\", labels.shape)\n"
   ]
  },
  {
   "cell_type": "code",
   "execution_count": 46,
   "id": "74013c66",
   "metadata": {},
   "outputs": [
    {
     "name": "stdout",
     "output_type": "stream",
     "text": [
      "RNNClassifier(\n",
      "  (embedding): Embedding(20000, 100, padding_idx=0)\n",
      "  (rnn): RNN(100, 128, batch_first=True)\n",
      "  (fc): Linear(in_features=128, out_features=1, bias=True)\n",
      "  (sigmoid): Sigmoid()\n",
      ")\n"
     ]
    }
   ],
   "source": [
    "class RNNClassifier(nn.Module):\n",
    "    def __init__(self, vocab_size, embedding_dim, hidden_dim, output_dim, padding_idx):\n",
    "        super(RNNClassifier, self).__init__()\n",
    "        self.embedding = nn.Embedding(vocab_size, embedding_dim, padding_idx=padding_idx)\n",
    "        self.rnn = nn.RNN(input_size=embedding_dim, hidden_size=hidden_dim, batch_first=True)\n",
    "        self.fc = nn.Linear(hidden_dim, output_dim)\n",
    "        self.sigmoid = nn.Sigmoid()\n",
    "    \n",
    "    def forward(self, x):\n",
    "        embedded = self.embedding(x)  # [batch, seq_len, emb_dim]\n",
    "        output, hidden = self.rnn(embedded)  # hidden: [1, batch, hidden_dim]\n",
    "        out = hidden.squeeze(0)  # [batch, hidden_dim]\n",
    "        out = self.fc(out)  # [batch, output_dim]\n",
    "        return self.sigmoid(out).squeeze(1)  # [batch]\n",
    "\n",
    "# Hyperparameters\n",
    "vocab_size = len(word2idx)\n",
    "embedding_dim = 100\n",
    "hidden_dim = 128\n",
    "output_dim = 1\n",
    "padding_idx = word2idx['<PAD>']\n",
    "\n",
    "model = RNNClassifier(vocab_size, embedding_dim, hidden_dim, output_dim, padding_idx).to(device)\n",
    "print(model)\n"
   ]
  },
  {
   "cell_type": "code",
   "execution_count": 47,
   "id": "1c7e3a90",
   "metadata": {},
   "outputs": [],
   "source": [
    "criterion = nn.BCELoss()\n",
    "optimizer = optim.Adam(model.parameters(), lr=0.001)\n"
   ]
  },
  {
   "cell_type": "code",
   "execution_count": 48,
   "id": "e2bd4e3d",
   "metadata": {},
   "outputs": [],
   "source": [
    "def train_epoch(model, dataloader, criterion, optimizer, device):\n",
    "    model.train()\n",
    "    running_loss = 0.0\n",
    "    correct_preds = 0\n",
    "    total = 0\n",
    "\n",
    "    print(f\"Number of batches in dataloader: {len(dataloader)}\", flush=True)\n",
    "\n",
    "    for texts, labels in dataloader:\n",
    "        texts, labels = texts.to(device), labels.to(device)\n",
    "\n",
    "        optimizer.zero_grad()\n",
    "        outputs = model(texts)\n",
    "\n",
    "        print(\"Labels (first 5):\", labels[:5], flush=True)\n",
    "        print(\"Outputs (first 5):\", outputs[:5], flush=True)\n",
    "\n",
    "        loss = criterion(outputs, labels)\n",
    "        loss.backward()\n",
    "        optimizer.step()\n",
    "\n",
    "        running_loss += loss.item() * texts.size(0)\n",
    "\n",
    "        preds = (outputs >= 0.5).float()\n",
    "        correct_preds += (preds == labels).sum().item()\n",
    "        total += labels.size(0)\n",
    "\n",
    "    # These won't run yet because of break, but keep for later\n",
    "    epoch_loss = running_loss / total if total > 0 else 0\n",
    "    epoch_acc = correct_preds / total if total > 0 else 0\n",
    "    return epoch_loss, epoch_acc\n"
   ]
  },
  {
   "cell_type": "code",
   "execution_count": 49,
   "id": "a1315f75",
   "metadata": {},
   "outputs": [
    {
     "name": "stdout",
     "output_type": "stream",
     "text": [
      "Device: cuda\n"
     ]
    },
    {
     "ename": "NameError",
     "evalue": "name 'dataloader' is not defined",
     "output_type": "error",
     "traceback": [
      "\u001b[1;31m---------------------------------------------------------------------------\u001b[0m",
      "\u001b[1;31mNameError\u001b[0m                                 Traceback (most recent call last)",
      "Cell \u001b[1;32mIn[49], line 4\u001b[0m\n\u001b[0;32m      1\u001b[0m \u001b[38;5;28mprint\u001b[39m(\u001b[38;5;124mf\u001b[39m\u001b[38;5;124m\"\u001b[39m\u001b[38;5;124mDevice: \u001b[39m\u001b[38;5;132;01m{\u001b[39;00mdevice\u001b[38;5;132;01m}\u001b[39;00m\u001b[38;5;124m\"\u001b[39m)\n\u001b[0;32m      3\u001b[0m \u001b[38;5;66;03m# Check first batch from dataloader and print shapes and dtype\u001b[39;00m\n\u001b[1;32m----> 4\u001b[0m \u001b[38;5;28;01mfor\u001b[39;00m texts, labels \u001b[38;5;129;01min\u001b[39;00m \u001b[43mdataloader\u001b[49m:\n\u001b[0;32m      5\u001b[0m     \u001b[38;5;28mprint\u001b[39m(\u001b[38;5;124m\"\u001b[39m\u001b[38;5;124mBatch texts shape:\u001b[39m\u001b[38;5;124m\"\u001b[39m, texts\u001b[38;5;241m.\u001b[39mshape)\n\u001b[0;32m      6\u001b[0m     \u001b[38;5;28mprint\u001b[39m(\u001b[38;5;124m\"\u001b[39m\u001b[38;5;124mBatch labels shape:\u001b[39m\u001b[38;5;124m\"\u001b[39m, labels\u001b[38;5;241m.\u001b[39mshape)\n",
      "\u001b[1;31mNameError\u001b[0m: name 'dataloader' is not defined"
     ]
    }
   ],
   "source": [
    "print(f\"Device: {device}\")\n",
    "\n",
    "# Check first batch from dataloader and print shapes and dtype\n",
    "for texts, labels in dataloader:\n",
    "    print(\"Batch texts shape:\", texts.shape)\n",
    "    print(\"Batch labels shape:\", labels.shape)\n",
    "    print(\"Batch texts device:\", texts.device if hasattr(texts, 'device') else 'CPU')\n",
    "    print(\"Batch labels device:\", labels.device if hasattr(labels, 'device') else 'CPU')\n",
    "    print(\"Sample labels (first 5):\", labels[:5])\n",
    "    break\n"
   ]
  },
  {
   "cell_type": "code",
   "execution_count": null,
   "id": "bd846668",
   "metadata": {},
   "outputs": [
    {
     "name": "stdout",
     "output_type": "stream",
     "text": [
      "Number of batches in dataloader: 782\n",
      "Labels (first 5): tensor([1., 1., 1., 1., 1.], device='cuda:0')\n",
      "Outputs (first 5): tensor([0.5013, 0.5013, 0.5013, 0.5013, 0.5013], device='cuda:0',\n",
      "       grad_fn=<SliceBackward0>)\n",
      "Epoch 1: Train Loss = 0.0000, Train Accuracy = 0.0000\n",
      "Number of batches in dataloader: 782\n",
      "Labels (first 5): tensor([1., 0., 1., 0., 1.], device='cuda:0')\n",
      "Outputs (first 5): tensor([0.5013, 0.5255, 0.5013, 0.5583, 0.5013], device='cuda:0',\n",
      "       grad_fn=<SliceBackward0>)\n",
      "Epoch 2: Train Loss = 0.0000, Train Accuracy = 0.0000\n",
      "Number of batches in dataloader: 782\n",
      "Labels (first 5): tensor([1., 0., 0., 0., 0.], device='cuda:0')\n",
      "Outputs (first 5): tensor([0.5013, 0.5013, 0.5013, 0.5013, 0.5013], device='cuda:0',\n",
      "       grad_fn=<SliceBackward0>)\n",
      "Epoch 3: Train Loss = 0.0000, Train Accuracy = 0.0000\n",
      "Number of batches in dataloader: 782\n",
      "Labels (first 5): tensor([0., 1., 0., 1., 0.], device='cuda:0')\n",
      "Outputs (first 5): tensor([0.5013, 0.5013, 0.5013, 0.5013, 0.5013], device='cuda:0',\n",
      "       grad_fn=<SliceBackward0>)\n",
      "Epoch 4: Train Loss = 0.0000, Train Accuracy = 0.0000\n",
      "Number of batches in dataloader: 782\n",
      "Labels (first 5): tensor([1., 1., 1., 1., 1.], device='cuda:0')\n",
      "Outputs (first 5): tensor([0.5013, 0.5013, 0.5013, 0.5013, 0.5013], device='cuda:0',\n",
      "       grad_fn=<SliceBackward0>)\n",
      "Epoch 5: Train Loss = 0.0000, Train Accuracy = 0.0000\n"
     ]
    }
   ],
   "source": [
    "num_epochs = 5\n",
    "for epoch in range(num_epochs):\n",
    "    train_loss, train_acc = train_epoch(model, train_loader, criterion, optimizer, device)\n",
    "    print(f\"Epoch {epoch+1}: Train Loss = {train_loss:.4f}, Train Accuracy = {train_acc:.4f}\")\n"
   ]
  },
  {
   "cell_type": "code",
   "execution_count": null,
   "id": "af45f9e0",
   "metadata": {},
   "outputs": [],
   "source": []
  }
 ],
 "metadata": {
  "kernelspec": {
   "display_name": "Python 3",
   "language": "python",
   "name": "python3"
  },
  "language_info": {
   "codemirror_mode": {
    "name": "ipython",
    "version": 3
   },
   "file_extension": ".py",
   "mimetype": "text/x-python",
   "name": "python",
   "nbconvert_exporter": "python",
   "pygments_lexer": "ipython3",
   "version": "3.11.9"
  }
 },
 "nbformat": 4,
 "nbformat_minor": 5
}
