{
 "cells": [
  {
   "cell_type": "code",
   "execution_count": null,
   "id": "21ef920a",
   "metadata": {},
   "outputs": [
    {
     "name": "stdout",
     "output_type": "stream",
     "text": [
      "   polarity                                              title  \\\n",
      "0         2                     Stuning even for the non-gamer   \n",
      "1         2              The best soundtrack ever to anything.   \n",
      "2         2                                           Amazing!   \n",
      "3         2                               Excellent Soundtrack   \n",
      "4         2  Remember, Pull Your Jaw Off The Floor After He...   \n",
      "\n",
      "                                              review  \n",
      "0  This sound track was beautiful! It paints the ...  \n",
      "1  I'm reading a lot of reviews saying that this ...  \n",
      "2  This soundtrack is my favorite music of all ti...  \n",
      "3  I truly like this soundtrack and I enjoy video...  \n",
      "4  If you've played the game, you know how divine...  \n",
      "polarity\n",
      "2    1800000\n",
      "1    1800000\n",
      "Name: count, dtype: int64\n"
     ]
    }
   ],
   "source": [
    "import pandas as pd\n",
    "df = pd.read_csv(r'C:\\Users\\abhis\\OneDrive\\Desktop\\week4\\data\\train.csv', header=None, names=['polarity', 'title', 'review'])\n",
    "print(df.head())\n",
    "print(df['polarity'].value_counts())\n"
   ]
  },
  {
   "cell_type": "code",
   "execution_count": 11,
   "id": "09fc7b7b",
   "metadata": {},
   "outputs": [
    {
     "data": {
      "text/plain": [
       "3600000"
      ]
     },
     "execution_count": 11,
     "metadata": {},
     "output_type": "execute_result"
    }
   ],
   "source": [
    "len(df)"
   ]
  },
  {
   "cell_type": "code",
   "execution_count": 13,
   "id": "3039375f",
   "metadata": {},
   "outputs": [
    {
     "data": {
      "text/plain": [
       "(1800000, 1800000)"
      ]
     },
     "execution_count": 13,
     "metadata": {},
     "output_type": "execute_result"
    }
   ],
   "source": [
    "len(df[df['polarity'] == 1]), len(df[df['polarity'] == 2])"
   ]
  },
  {
   "cell_type": "code",
   "execution_count": null,
   "id": "9e16b62e",
   "metadata": {},
   "outputs": [
    {
     "data": {
      "image/png": "[encoded data removed]",
      "text/plain": [
       "<Figure size 600x600 with 1 Axes>"
      ]
     },
     "metadata": {},
     "output_type": "display_data"
    }
   ],
   "source": [
    "import matplotlib.pyplot as plt\n",
    "counts = [len(df[df['polarity'] == 1]), len(df[df['polarity'] == 2])]\n",
    "labels = ['Polarity 1', 'Polarity 2']\n",
    "\n",
    "plt.figure(figsize=(6, 6))\n",
    "plt.pie(counts, labels=labels, autopct='%1.1f%%', startangle=90, colors=['lightblue', 'lightgreen'])\n",
    "plt.title('Distribution of Polarity Values for train.csv')\n",
    "plt.axis('equal') \n",
    "plt.show()"
   ]
  },
  {
   "cell_type": "markdown",
   "id": "8915f791",
   "metadata": {},
   "source": [
    "balanced dataset huh"
   ]
  },
  {
   "cell_type": "code",
   "execution_count": null,
   "id": "79da5097",
   "metadata": {},
   "outputs": [
    {
     "name": "stdout",
     "output_type": "stream",
     "text": [
      "Filtered dataset shape: (3600000, 3)\n",
      "polarity\n",
      "2    1800000\n",
      "1    1800000\n",
      "Name: count, dtype: int64\n"
     ]
    }
   ],
   "source": [
    "# Keep only polarity 1 nd 2\n",
    "df = df[df['polarity'].isin([1, 2])]\n",
    "\n",
    "# Drop rows with missing review text\n",
    "df = df.dropna(subset=['review'])\n",
    "\n",
    "print(f\"Filtered dataset shape: {df.shape}\")\n",
    "print(df['polarity'].value_counts())\n"
   ]
  },
  {
   "cell_type": "code",
   "execution_count": null,
   "id": "849855c2",
   "metadata": {},
   "outputs": [],
   "source": [
    "import re\n",
    "\n",
    "def clean_text(text):\n",
    "    text = str(text).lower()\n",
    "    text = re.sub(r\"<.*?>\", \"\", text)  # Remove HTML tags\n",
    "    text = re.sub(r\"[^a-z0-9\\s.,!?']\", \" \", text)  # Keep only basic punctuation and alphanumerics\n",
    "    text = re.sub(r\"\\s+\", \" \", text).strip() #strip white spaces\n",
    "    return text\n"
   ]
  },
  {
   "cell_type": "code",
   "execution_count": null,
   "id": "7b101367",
   "metadata": {},
   "outputs": [
    {
     "name": "stdout",
     "output_type": "stream",
     "text": [
      "                                              review  \\\n",
      "0  This sound track was beautiful! It paints the ...   \n",
      "1  I'm reading a lot of reviews saying that this ...   \n",
      "2  This soundtrack is my favorite music of all ti...   \n",
      "3  I truly like this soundtrack and I enjoy video...   \n",
      "4  If you've played the game, you know how divine...   \n",
      "\n",
      "                                      cleaned_review  \n",
      "0  this sound track was beautiful! it paints the ...  \n",
      "1  i'm reading a lot of reviews saying that this ...  \n",
      "2  this soundtrack is my favorite music of all ti...  \n",
      "3  i truly like this soundtrack and i enjoy video...  \n",
      "4  if you've played the game, you know how divine...  \n"
     ]
    }
   ],
   "source": [
    "df['cleaned_review'] = df['review'].apply(clean_text)\n",
    "print(df[['review', 'cleaned_review']].head())\n"
   ]
  },
  {
   "cell_type": "code",
   "execution_count": 5,
   "id": "34b12184",
   "metadata": {},
   "outputs": [
    {
     "name": "stdout",
     "output_type": "stream",
     "text": [
      "                                      cleaned_review  review_length\n",
      "0  this sound track was beautiful! it paints the ...             74\n",
      "1  i'm reading a lot of reviews saying that this ...             91\n",
      "2  this soundtrack is my favorite music of all ti...            130\n",
      "3  i truly like this soundtrack and i enjoy video...            114\n",
      "4  if you've played the game, you know how divine...             77\n",
      "\n",
      "Review length stats:\n",
      "count    3.600000e+06\n",
      "mean     7.473594e+01\n",
      "std      4.271340e+01\n",
      "min      0.000000e+00\n",
      "25%      3.900000e+01\n",
      "50%      6.600000e+01\n",
      "75%      1.040000e+02\n",
      "max      2.540000e+02\n",
      "Name: review_length, dtype: float64\n"
     ]
    }
   ],
   "source": [
    "df['review_length'] = df['cleaned_review'].apply(lambda x: len(x.split()))\n",
    "\n",
    "print(df[['cleaned_review', 'review_length']].head())\n",
    "print(f\"\\nReview length stats:\\n{df['review_length'].describe()}\")\n"
   ]
  },
  {
   "cell_type": "code",
   "execution_count": 6,
   "id": "24610518",
   "metadata": {},
   "outputs": [
    {
     "name": "stdout",
     "output_type": "stream",
     "text": [
      "   review_length  length_bin\n",
      "0             74           2\n",
      "1             91           3\n",
      "2            130           4\n",
      "3            114           3\n",
      "4             77           2\n",
      "5            144           4\n",
      "6            143           4\n",
      "7            103           3\n",
      "8             99           3\n",
      "9             58           2\n",
      "\n",
      "Length bin counts:\n",
      "length_bin\n",
      "0    741168\n",
      "3    721835\n",
      "2    718497\n",
      "4    716273\n",
      "1    702227\n",
      "Name: count, dtype: int64\n"
     ]
    }
   ],
   "source": [
    "df['length_bin'] = pd.qcut(df['review_length'], q=5, labels=False)\n",
    "\n",
    "print(df[['review_length', 'length_bin']].head(10))\n",
    "print(\"\\nLength bin counts:\")\n",
    "print(df['length_bin'].value_counts())\n"
   ]
  },
  {
   "cell_type": "code",
   "execution_count": 7,
   "id": "d82ac489",
   "metadata": {},
   "outputs": [
    {
     "name": "stderr",
     "output_type": "stream",
     "text": [
      "C:\\Users\\abhis\\AppData\\Local\\Temp\\ipykernel_18956\\26481960.py:5: DeprecationWarning: DataFrameGroupBy.apply operated on the grouping columns. This behavior is deprecated, and in a future version of pandas the grouping columns will be excluded from the operation. Either pass `include_groups=False` to exclude the groupings or explicitly select the grouping columns after groupby to silence this warning.\n",
      "  sampled_df = df.groupby(['polarity', 'length_bin'], group_keys=False).apply(\n"
     ]
    },
    {
     "name": "stdout",
     "output_type": "stream",
     "text": [
      "Sampled polarity counts:\n",
      "polarity\n",
      "1    400000\n",
      "2    400000\n",
      "Name: count, dtype: int64\n",
      "\n",
      "Sampled length_bin counts:\n",
      "length_bin\n",
      "0    160000\n",
      "1    160000\n",
      "2    160000\n",
      "3    160000\n",
      "4    160000\n",
      "Name: count, dtype: int64\n"
     ]
    }
   ],
   "source": [
    "sample_size = 800000  # total samples after sampling\n",
    "n_bins = df['length_bin'].nunique()\n",
    "samples_per_group = sample_size // (2 * n_bins)  # 2 classes * bins\n",
    "\n",
    "sampled_df = df.groupby(['polarity', 'length_bin'], group_keys=False).apply(\n",
    "    lambda x: x.sample(min(len(x), samples_per_group), random_state=42)\n",
    ").reset_index(drop=True)\n",
    "\n",
    "\n",
    "print(\"Sampled polarity counts:\")\n",
    "print(sampled_df['polarity'].value_counts())\n",
    "print(\"\\nSampled length_bin counts:\")\n",
    "print(sampled_df['length_bin'].value_counts())\n"
   ]
  },
  {
   "cell_type": "code",
   "execution_count": 8,
   "id": "8b33271b",
   "metadata": {},
   "outputs": [
    {
     "name": "stdout",
     "output_type": "stream",
     "text": [
      "polarity\n",
      "1    400000\n",
      "2    400000\n",
      "Name: count, dtype: int64\n"
     ]
    }
   ],
   "source": [
    "print(sampled_df['polarity'].value_counts())"
   ]
  },
  {
   "cell_type": "code",
   "execution_count": null,
   "id": "b8151277",
   "metadata": {},
   "outputs": [
    {
     "name": "stdout",
     "output_type": "stream",
     "text": [
      "Saved cleaned and sampled training data to data/cleaned_sampled_train.csv\n"
     ]
    }
   ],
   "source": [
    "from pathlib import Path\n",
    "\n",
    "# does the directory exist? if not, create it\n",
    "Path(r\"C:\\Users\\abhis\\OneDrive\\Desktop\\week4\\data\").mkdir(parents=True, exist_ok=True)\n",
    "\n",
    "# lets save my guy to a CSV file\n",
    "sampled_df[['cleaned_review', 'title', 'polarity']].to_csv(\"data/cleaned_sampled_train.csv\", index=False)\n",
    "\n",
    "print(\"Saved cleaned and sampled training data to data/cleaned_sampled_train.csv\")\n"
   ]
  },
  {
   "cell_type": "code",
   "execution_count": null,
   "id": "9e0e682a",
   "metadata": {},
   "outputs": [],
   "source": []
  }
 ],
 "metadata": {
  "kernelspec": {
   "display_name": "Python 3",
   "language": "python",
   "name": "python3"
  },
  "language_info": {
   "codemirror_mode": {
    "name": "ipython",
    "version": 3
   },
   "file_extension": ".py",
   "mimetype": "text/x-python",
   "name": "python",
   "nbconvert_exporter": "python",
   "pygments_lexer": "ipython3",
   "version": "3.11.9"
  }
 },
 "nbformat": 4,
 "nbformat_minor": 5
}
