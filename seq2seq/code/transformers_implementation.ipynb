{
 "cells": [
  {
   "cell_type": "code",
   "execution_count": 17,
   "id": "7680c41a",
   "metadata": {},
   "outputs": [
    {
     "name": "stderr",
     "output_type": "stream",
     "text": [
      "C:\\Users\\abhis\\AppData\\Local\\Packages\\PythonSoftwareFoundation.Python.3.11_qbz5n2kfra8p0\\LocalCache\\local-packages\\Python311\\site-packages\\tqdm\\auto.py:21: TqdmWarning: IProgress not found. Please update jupyter and ipywidgets. See https://ipywidgets.readthedocs.io/en/stable/user_install.html\n",
      "  from .autonotebook import tqdm as notebook_tqdm\n"
     ]
    }
   ],
   "source": [
    "from datasets import load_dataset\n",
    "\n",
    "dataset = load_dataset(\"opus_books\", \"en-es\")\n",
    "full_dataset = dataset[\"train\"]\n",
    "\n",
    "# train, test, val splt instead of train val\n",
    "split_1 = full_dataset.train_test_split(test_size=0.2, seed=42)\n",
    "train_val = split_1[\"train\"]\n",
    "test_data = split_1[\"test\"]\n",
    "\n",
    "split_2 = train_val.train_test_split(test_size=0.1111, seed=42)  # 0.1111 of 0.9 ≈ 10%\n",
    "train_data = split_2[\"train\"]\n",
    "val_data = split_2[\"test\"]\n"
   ]
  },
  {
   "cell_type": "code",
   "execution_count": 18,
   "id": "18df3fd0",
   "metadata": {},
   "outputs": [
    {
     "name": "stderr",
     "output_type": "stream",
     "text": [
      "C:\\Users\\abhis\\AppData\\Local\\Packages\\PythonSoftwareFoundation.Python.3.11_qbz5n2kfra8p0\\LocalCache\\local-packages\\Python311\\site-packages\\transformers\\models\\marian\\tokenization_marian.py:175: UserWarning: Recommended: pip install sacremoses.\n",
      "  warnings.warn(\"Recommended: pip install sacremoses.\")\n"
     ]
    }
   ],
   "source": [
    "from transformers import MarianTokenizer\n",
    "\n",
    "model_name = \"Helsinki-NLP/opus-mt-en-es\"\n",
    "tokenizer = MarianTokenizer.from_pretrained(model_name)\n",
    "max_length = 64\n",
    "\n",
    "def preprocess(example):\n",
    "    model_input = tokenizer(example[\"translation\"][\"en\"], max_length=max_length, padding=\"max_length\", truncation=True)\n",
    "    labels = tokenizer(example[\"translation\"][\"es\"], max_length=max_length, padding=\"max_length\", truncation=True)\n",
    "    model_input[\"labels\"] = labels[\"input_ids\"]\n",
    "    return model_input\n",
    "\n",
    "tokenized_train = train_data.map(preprocess, remove_columns=[\"id\", \"translation\"])\n",
    "tokenized_val = val_data.map(preprocess, remove_columns=[\"id\", \"translation\"])\n",
    "tokenized_test = test_data.map(preprocess, remove_columns=[\"id\", \"translation\"])\n"
   ]
  },
  {
   "cell_type": "code",
   "execution_count": 19,
   "id": "1504f3a6",
   "metadata": {},
   "outputs": [],
   "source": [
    "import torch\n",
    "from transformers import MarianMTModel\n",
    "\n",
    "model = MarianMTModel.from_pretrained(model_name)\n",
    "device = torch.device(\"cuda\" if torch.cuda.is_available() else \"cpu\")\n",
    "model = model.to(device)\n"
   ]
  },
  {
   "cell_type": "code",
   "execution_count": 20,
   "id": "eb47ad2e",
   "metadata": {},
   "outputs": [
    {
     "name": "stderr",
     "output_type": "stream",
     "text": [
      "C:\\Users\\abhis\\AppData\\Local\\Packages\\PythonSoftwareFoundation.Python.3.11_qbz5n2kfra8p0\\LocalCache\\local-packages\\Python311\\site-packages\\transformers\\training_args.py:1474: FutureWarning: `evaluation_strategy` is deprecated and will be removed in version 4.46 of 🤗 Transformers. Use `eval_strategy` instead\n",
      "  warnings.warn(\n"
     ]
    }
   ],
   "source": [
    "from transformers import Seq2SeqTrainer, Seq2SeqTrainingArguments, DataCollatorForSeq2Seq\n",
    "\n",
    "training_args = Seq2SeqTrainingArguments(\n",
    "    output_dir=\"./opus_en_es_model\",\n",
    "    evaluation_strategy=\"epoch\",\n",
    "    save_strategy=\"epoch\",\n",
    "    logging_dir=\"./logs\",\n",
    "    num_train_epochs=2,\n",
    "    per_device_train_batch_size=16,\n",
    "    per_device_eval_batch_size=16,\n",
    "    learning_rate=2e-5,\n",
    "    predict_with_generate=True,\n",
    "    save_total_limit=1,\n",
    "    report_to=\"none\",\n",
    ")\n",
    "\n",
    "data_collator = DataCollatorForSeq2Seq(tokenizer, model=model)\n",
    "\n",
    "trainer = Seq2SeqTrainer(\n",
    "    model=model,\n",
    "    args=training_args,\n",
    "    train_dataset=tokenized_train,\n",
    "    eval_dataset=tokenized_val,\n",
    "    tokenizer=tokenizer,\n",
    "    data_collator=data_collator,\n",
    ")\n"
   ]
  },
  {
   "cell_type": "markdown",
   "id": "5a1da803",
   "metadata": {},
   "source": [
    "lets get the bleu score before fine tuning"
   ]
  },
  {
   "cell_type": "code",
   "execution_count": null,
   "id": "548fa536",
   "metadata": {},
   "outputs": [
    {
     "name": "stderr",
     "output_type": "stream",
     "text": [
      "100%|██████████| 520/520 [15:25<00:00,  1.78s/it]\n"
     ]
    },
    {
     "name": "stdout",
     "output_type": "stream",
     "text": [
      "Validation BLEU (Before Fine-Tuning): 14.89\n"
     ]
    }
   ],
   "source": [
    "from transformers import MarianMTModel, MarianTokenizer, Seq2SeqTrainer, Seq2SeqTrainingArguments, DataCollatorForSeq2Seq\n",
    "from sacrebleu import corpus_bleu\n",
    "import torch\n",
    "\n",
    "# load the original pretrained model\n",
    "model = MarianMTModel.from_pretrained(\"Helsinki-NLP/opus-mt-en-es\")\n",
    "tokenizer = MarianTokenizer.from_pretrained(\"Helsinki-NLP/opus-mt-en-es\")\n",
    "device = torch.device(\"cuda\" if torch.cuda.is_available() else \"cpu\")\n",
    "model = model.to(device)\n",
    "\n",
    "eval_args = Seq2SeqTrainingArguments(\n",
    "    output_dir=\"./eval_untrained\",\n",
    "    per_device_eval_batch_size=16,\n",
    "    predict_with_generate=True,\n",
    "    report_to=\"none\",\n",
    ")\n",
    "\n",
    "data_collator = DataCollatorForSeq2Seq(tokenizer, model=model)\n",
    "\n",
    "eval_trainer = Seq2SeqTrainer(\n",
    "    model=model,\n",
    "    args=eval_args,\n",
    "    tokenizer=tokenizer,\n",
    "    data_collator=data_collator,\n",
    ")\n",
    "\n",
    "# compute validation BLEU\n",
    "val_pred = eval_trainer.predict(tokenized_val)\n",
    "val_preds = tokenizer.batch_decode(val_pred.predictions, skip_special_tokens=True)\n",
    "val_labels = tokenizer.batch_decode(val_pred.label_ids, skip_special_tokens=True)\n",
    "untrained_bleu = corpus_bleu(val_preds, [val_labels]).score\n",
    "\n",
    "print(f\"Validation BLEU (Before Fine-Tuning): {untrained_bleu:.2f}\")\n"
   ]
  },
  {
   "cell_type": "code",
   "execution_count": 21,
   "id": "76dce715",
   "metadata": {},
   "outputs": [],
   "source": [
    "# from sacrebleu import corpus_bleu\n",
    "# import time\n",
    "\n",
    "# bleu_per_epoch = []\n",
    "# epoch_times = []\n",
    "\n",
    "# for epoch in range(2):\n",
    "#     start = time.time()\n",
    "#     trainer.train()\n",
    "#     end = time.time()\n",
    "#     epoch_times.append(end - start)\n",
    "\n",
    "#     val_pred = trainer.predict(tokenized_val)\n",
    "#     preds = tokenizer.batch_decode(val_pred.predictions, skip_special_tokens=True)\n",
    "#     labels = tokenizer.batch_decode(val_pred.label_ids, skip_special_tokens=True)\n",
    "#     bleu = corpus_bleu(preds, [labels]).score\n",
    "#     bleu_per_epoch.append(bleu)\n",
    "#     print(f\"Epoch {epoch+1} BLEU: {bleu:.2f}, Time: {epoch_times[-1]:.2f} sec\")\n"
   ]
  },
  {
   "cell_type": "code",
   "execution_count": 22,
   "id": "7be45662",
   "metadata": {},
   "outputs": [
    {
     "name": "stderr",
     "output_type": "stream",
     "text": [
      "  6%|▌         | 500/8310 [02:36<40:34,  3.21it/s]"
     ]
    },
    {
     "name": "stdout",
     "output_type": "stream",
     "text": [
      "{'loss': 1.9546, 'grad_norm': 3.3344943523406982, 'learning_rate': 1.8796630565583636e-05, 'epoch': 0.12}\n"
     ]
    },
    {
     "name": "stderr",
     "output_type": "stream",
     "text": [
      " 12%|█▏        | 1000/8310 [05:17<41:24,  2.94it/s]"
     ]
    },
    {
     "name": "stdout",
     "output_type": "stream",
     "text": [
      "{'loss': 1.5414, 'grad_norm': 3.0614891052246094, 'learning_rate': 1.759326113116727e-05, 'epoch': 0.24}\n"
     ]
    },
    {
     "name": "stderr",
     "output_type": "stream",
     "text": [
      " 18%|█▊        | 1500/8310 [07:53<34:43,  3.27it/s]"
     ]
    },
    {
     "name": "stdout",
     "output_type": "stream",
     "text": [
      "{'loss': 1.3842, 'grad_norm': 3.026151418685913, 'learning_rate': 1.6389891696750904e-05, 'epoch': 0.36}\n"
     ]
    },
    {
     "name": "stderr",
     "output_type": "stream",
     "text": [
      " 24%|██▍       | 2000/8310 [10:26<31:27,  3.34it/s]"
     ]
    },
    {
     "name": "stdout",
     "output_type": "stream",
     "text": [
      "{'loss': 1.3138, 'grad_norm': 2.9586987495422363, 'learning_rate': 1.5186522262334538e-05, 'epoch': 0.48}\n"
     ]
    },
    {
     "name": "stderr",
     "output_type": "stream",
     "text": [
      " 30%|███       | 2500/8310 [12:58<29:14,  3.31it/s]"
     ]
    },
    {
     "name": "stdout",
     "output_type": "stream",
     "text": [
      "{'loss': 1.2795, 'grad_norm': 3.173635244369507, 'learning_rate': 1.3983152827918172e-05, 'epoch': 0.6}\n"
     ]
    },
    {
     "name": "stderr",
     "output_type": "stream",
     "text": [
      " 36%|███▌      | 3000/8310 [15:30<26:13,  3.37it/s]"
     ]
    },
    {
     "name": "stdout",
     "output_type": "stream",
     "text": [
      "{'loss': 1.2445, 'grad_norm': 2.339324474334717, 'learning_rate': 1.2779783393501806e-05, 'epoch': 0.72}\n"
     ]
    },
    {
     "name": "stderr",
     "output_type": "stream",
     "text": [
      " 42%|████▏     | 3500/8310 [18:07<25:07,  3.19it/s]"
     ]
    },
    {
     "name": "stdout",
     "output_type": "stream",
     "text": [
      "{'loss': 1.2, 'grad_norm': 2.9053025245666504, 'learning_rate': 1.157641395908544e-05, 'epoch': 0.84}\n"
     ]
    },
    {
     "name": "stderr",
     "output_type": "stream",
     "text": [
      " 48%|████▊     | 4000/8310 [20:45<22:30,  3.19it/s]"
     ]
    },
    {
     "name": "stdout",
     "output_type": "stream",
     "text": [
      "{'loss': 1.191, 'grad_norm': 2.8411779403686523, 'learning_rate': 1.0373044524669073e-05, 'epoch': 0.96}\n"
     ]
    },
    {
     "name": "stderr",
     "output_type": "stream",
     "text": [
      "                                                   \n",
      " 50%|█████     | 4155/8310 [22:15<18:32,  3.73it/s]Some non-default generation parameters are set in the model config. These should go into a GenerationConfig file (https://huggingface.co/docs/transformers/generation_strategies#save-a-custom-decoding-strategy-with-your-model) instead. This warning will be raised to an exception in v4.41.\n",
      "Non-default generation parameters: {'max_length': 512, 'num_beams': 4, 'bad_words_ids': [[65000]], 'forced_eos_token_id': 0}\n"
     ]
    },
    {
     "name": "stdout",
     "output_type": "stream",
     "text": [
      "{'eval_loss': 1.087510108947754, 'eval_runtime': 40.8767, 'eval_samples_per_second': 203.245, 'eval_steps_per_second': 12.721, 'epoch': 1.0}\n"
     ]
    },
    {
     "name": "stderr",
     "output_type": "stream",
     "text": [
      " 54%|█████▍    | 4500/8310 [24:19<23:18,  2.72it/s]   "
     ]
    },
    {
     "name": "stdout",
     "output_type": "stream",
     "text": [
      "{'loss': 1.1384, 'grad_norm': 2.6342103481292725, 'learning_rate': 9.169675090252709e-06, 'epoch': 1.08}\n"
     ]
    },
    {
     "name": "stderr",
     "output_type": "stream",
     "text": [
      " 60%|██████    | 5000/8310 [27:01<17:27,  3.16it/s]"
     ]
    },
    {
     "name": "stdout",
     "output_type": "stream",
     "text": [
      "{'loss': 1.1069, 'grad_norm': 2.899354934692383, 'learning_rate': 7.966305655836343e-06, 'epoch': 1.2}\n"
     ]
    },
    {
     "name": "stderr",
     "output_type": "stream",
     "text": [
      " 66%|██████▌   | 5500/8310 [29:39<14:47,  3.17it/s]"
     ]
    },
    {
     "name": "stdout",
     "output_type": "stream",
     "text": [
      "{'loss': 1.1124, 'grad_norm': 2.6256935596466064, 'learning_rate': 6.762936221419977e-06, 'epoch': 1.32}\n"
     ]
    },
    {
     "name": "stderr",
     "output_type": "stream",
     "text": [
      " 72%|███████▏  | 6000/8310 [32:17<12:05,  3.18it/s]"
     ]
    },
    {
     "name": "stdout",
     "output_type": "stream",
     "text": [
      "{'loss': 1.0956, 'grad_norm': 2.708740234375, 'learning_rate': 5.559566787003611e-06, 'epoch': 1.44}\n"
     ]
    },
    {
     "name": "stderr",
     "output_type": "stream",
     "text": [
      " 78%|███████▊  | 6500/8310 [34:54<09:30,  3.17it/s]"
     ]
    },
    {
     "name": "stdout",
     "output_type": "stream",
     "text": [
      "{'loss': 1.0891, 'grad_norm': 2.4286556243896484, 'learning_rate': 4.356197352587245e-06, 'epoch': 1.56}\n"
     ]
    },
    {
     "name": "stderr",
     "output_type": "stream",
     "text": [
      " 84%|████████▍ | 7000/8310 [37:31<06:57,  3.14it/s]"
     ]
    },
    {
     "name": "stdout",
     "output_type": "stream",
     "text": [
      "{'loss': 1.0679, 'grad_norm': 2.5545167922973633, 'learning_rate': 3.1528279181708787e-06, 'epoch': 1.68}\n"
     ]
    },
    {
     "name": "stderr",
     "output_type": "stream",
     "text": [
      " 90%|█████████ | 7500/8310 [40:09<04:18,  3.13it/s]"
     ]
    },
    {
     "name": "stdout",
     "output_type": "stream",
     "text": [
      "{'loss': 1.068, 'grad_norm': 2.8705058097839355, 'learning_rate': 1.949458483754513e-06, 'epoch': 1.81}\n"
     ]
    },
    {
     "name": "stderr",
     "output_type": "stream",
     "text": [
      " 96%|█████████▋| 8000/8310 [42:47<01:38,  3.14it/s]"
     ]
    },
    {
     "name": "stdout",
     "output_type": "stream",
     "text": [
      "{'loss': 1.0723, 'grad_norm': 3.0169715881347656, 'learning_rate': 7.460890493381469e-07, 'epoch': 1.93}\n"
     ]
    },
    {
     "name": "stderr",
     "output_type": "stream",
     "text": [
      "                                                   \n",
      "100%|██████████| 8310/8310 [45:06<00:00,  3.78it/s]Some non-default generation parameters are set in the model config. These should go into a GenerationConfig file (https://huggingface.co/docs/transformers/generation_strategies#save-a-custom-decoding-strategy-with-your-model) instead. This warning will be raised to an exception in v4.41.\n",
      "Non-default generation parameters: {'max_length': 512, 'num_beams': 4, 'bad_words_ids': [[65000]], 'forced_eos_token_id': 0}\n"
     ]
    },
    {
     "name": "stdout",
     "output_type": "stream",
     "text": [
      "{'eval_loss': 1.0320098400115967, 'eval_runtime': 40.6785, 'eval_samples_per_second': 204.236, 'eval_steps_per_second': 12.783, 'epoch': 2.0}\n"
     ]
    },
    {
     "name": "stderr",
     "output_type": "stream",
     "text": [
      "100%|██████████| 8310/8310 [45:07<00:00,  3.07it/s]\n"
     ]
    },
    {
     "name": "stdout",
     "output_type": "stream",
     "text": [
      "{'train_runtime': 2707.3978, 'train_samples_per_second': 49.101, 'train_steps_per_second': 3.069, 'train_loss': 1.2348445520504288, 'epoch': 2.0}\n"
     ]
    },
    {
     "name": "stderr",
     "output_type": "stream",
     "text": [
      "100%|██████████| 520/520 [16:15<00:00,  1.88s/it]\n"
     ]
    },
    {
     "name": "stdout",
     "output_type": "stream",
     "text": [
      "Epoch 1 BLEU: 18.42, Time: 2708.17 sec\n"
     ]
    },
    {
     "name": "stderr",
     "output_type": "stream",
     "text": [
      "  6%|▌         | 500/8310 [02:39<40:44,  3.19it/s]"
     ]
    },
    {
     "name": "stdout",
     "output_type": "stream",
     "text": [
      "{'loss': 1.0691, 'grad_norm': 2.739985227584839, 'learning_rate': 1.8796630565583636e-05, 'epoch': 0.12}\n"
     ]
    },
    {
     "name": "stderr",
     "output_type": "stream",
     "text": [
      " 12%|█▏        | 1000/8310 [05:18<38:39,  3.15it/s]"
     ]
    },
    {
     "name": "stdout",
     "output_type": "stream",
     "text": [
      "{'loss': 1.0548, 'grad_norm': 2.5639476776123047, 'learning_rate': 1.759326113116727e-05, 'epoch': 0.24}\n"
     ]
    },
    {
     "name": "stderr",
     "output_type": "stream",
     "text": [
      " 18%|█▊        | 1500/8310 [07:59<36:30,  3.11it/s]"
     ]
    },
    {
     "name": "stdout",
     "output_type": "stream",
     "text": [
      "{'loss': 1.0204, 'grad_norm': 2.5145175457000732, 'learning_rate': 1.6389891696750904e-05, 'epoch': 0.36}\n"
     ]
    },
    {
     "name": "stderr",
     "output_type": "stream",
     "text": [
      " 21%|██        | 1754/8310 [09:20<36:16,  3.01it/s]"
     ]
    },
    {
     "ename": "KeyboardInterrupt",
     "evalue": "",
     "output_type": "error",
     "traceback": [
      "\u001b[1;31m---------------------------------------------------------------------------\u001b[0m",
      "\u001b[1;31mKeyboardInterrupt\u001b[0m                         Traceback (most recent call last)",
      "Cell \u001b[1;32mIn[22], line 9\u001b[0m\n\u001b[0;32m      7\u001b[0m \u001b[38;5;28;01mfor\u001b[39;00m epoch \u001b[38;5;129;01min\u001b[39;00m \u001b[38;5;28mrange\u001b[39m(\u001b[38;5;241m2\u001b[39m):\n\u001b[0;32m      8\u001b[0m     start \u001b[38;5;241m=\u001b[39m time\u001b[38;5;241m.\u001b[39mtime()\n\u001b[1;32m----> 9\u001b[0m     \u001b[43mtrainer\u001b[49m\u001b[38;5;241;43m.\u001b[39;49m\u001b[43mtrain\u001b[49m\u001b[43m(\u001b[49m\u001b[43m)\u001b[49m\n\u001b[0;32m     10\u001b[0m     end \u001b[38;5;241m=\u001b[39m time\u001b[38;5;241m.\u001b[39mtime()\n\u001b[0;32m     11\u001b[0m     epoch_times\u001b[38;5;241m.\u001b[39mappend(end \u001b[38;5;241m-\u001b[39m start)\n",
      "File \u001b[1;32m~\\AppData\\Local\\Packages\\PythonSoftwareFoundation.Python.3.11_qbz5n2kfra8p0\\LocalCache\\local-packages\\Python311\\site-packages\\transformers\\trainer.py:1885\u001b[0m, in \u001b[0;36mTrainer.train\u001b[1;34m(self, resume_from_checkpoint, trial, ignore_keys_for_eval, **kwargs)\u001b[0m\n\u001b[0;32m   1883\u001b[0m         hf_hub_utils\u001b[38;5;241m.\u001b[39menable_progress_bars()\n\u001b[0;32m   1884\u001b[0m \u001b[38;5;28;01melse\u001b[39;00m:\n\u001b[1;32m-> 1885\u001b[0m     \u001b[38;5;28;01mreturn\u001b[39;00m \u001b[43minner_training_loop\u001b[49m\u001b[43m(\u001b[49m\n\u001b[0;32m   1886\u001b[0m \u001b[43m        \u001b[49m\u001b[43margs\u001b[49m\u001b[38;5;241;43m=\u001b[39;49m\u001b[43margs\u001b[49m\u001b[43m,\u001b[49m\n\u001b[0;32m   1887\u001b[0m \u001b[43m        \u001b[49m\u001b[43mresume_from_checkpoint\u001b[49m\u001b[38;5;241;43m=\u001b[39;49m\u001b[43mresume_from_checkpoint\u001b[49m\u001b[43m,\u001b[49m\n\u001b[0;32m   1888\u001b[0m \u001b[43m        \u001b[49m\u001b[43mtrial\u001b[49m\u001b[38;5;241;43m=\u001b[39;49m\u001b[43mtrial\u001b[49m\u001b[43m,\u001b[49m\n\u001b[0;32m   1889\u001b[0m \u001b[43m        \u001b[49m\u001b[43mignore_keys_for_eval\u001b[49m\u001b[38;5;241;43m=\u001b[39;49m\u001b[43mignore_keys_for_eval\u001b[49m\u001b[43m,\u001b[49m\n\u001b[0;32m   1890\u001b[0m \u001b[43m    \u001b[49m\u001b[43m)\u001b[49m\n",
      "File \u001b[1;32m~\\AppData\\Local\\Packages\\PythonSoftwareFoundation.Python.3.11_qbz5n2kfra8p0\\LocalCache\\local-packages\\Python311\\site-packages\\transformers\\trainer.py:2221\u001b[0m, in \u001b[0;36mTrainer._inner_training_loop\u001b[1;34m(self, batch_size, args, resume_from_checkpoint, trial, ignore_keys_for_eval)\u001b[0m\n\u001b[0;32m   2215\u001b[0m \u001b[38;5;28;01mwith\u001b[39;00m \u001b[38;5;28mself\u001b[39m\u001b[38;5;241m.\u001b[39maccelerator\u001b[38;5;241m.\u001b[39maccumulate(model):\n\u001b[0;32m   2216\u001b[0m     tr_loss_step \u001b[38;5;241m=\u001b[39m \u001b[38;5;28mself\u001b[39m\u001b[38;5;241m.\u001b[39mtraining_step(model, inputs)\n\u001b[0;32m   2218\u001b[0m \u001b[38;5;28;01mif\u001b[39;00m (\n\u001b[0;32m   2219\u001b[0m     args\u001b[38;5;241m.\u001b[39mlogging_nan_inf_filter\n\u001b[0;32m   2220\u001b[0m     \u001b[38;5;129;01mand\u001b[39;00m \u001b[38;5;129;01mnot\u001b[39;00m is_torch_xla_available()\n\u001b[1;32m-> 2221\u001b[0m     \u001b[38;5;129;01mand\u001b[39;00m (torch\u001b[38;5;241m.\u001b[39misnan(tr_loss_step) \u001b[38;5;129;01mor\u001b[39;00m \u001b[43mtorch\u001b[49m\u001b[38;5;241;43m.\u001b[39;49m\u001b[43misinf\u001b[49m\u001b[43m(\u001b[49m\u001b[43mtr_loss_step\u001b[49m\u001b[43m)\u001b[49m)\n\u001b[0;32m   2222\u001b[0m ):\n\u001b[0;32m   2223\u001b[0m     \u001b[38;5;66;03m# if loss is nan or inf simply add the average of previous logged losses\u001b[39;00m\n\u001b[0;32m   2224\u001b[0m     tr_loss \u001b[38;5;241m+\u001b[39m\u001b[38;5;241m=\u001b[39m tr_loss \u001b[38;5;241m/\u001b[39m (\u001b[38;5;241m1\u001b[39m \u001b[38;5;241m+\u001b[39m \u001b[38;5;28mself\u001b[39m\u001b[38;5;241m.\u001b[39mstate\u001b[38;5;241m.\u001b[39mglobal_step \u001b[38;5;241m-\u001b[39m \u001b[38;5;28mself\u001b[39m\u001b[38;5;241m.\u001b[39m_globalstep_last_logged)\n\u001b[0;32m   2225\u001b[0m \u001b[38;5;28;01melse\u001b[39;00m:\n",
      "\u001b[1;31mKeyboardInterrupt\u001b[0m: "
     ]
    }
   ],
   "source": [
    "from sacrebleu import corpus_bleu\n",
    "import time\n",
    "\n",
    "bleu_per_epoch = []\n",
    "epoch_times = []\n",
    "\n",
    "for epoch in range(2):\n",
    "    start = time.time()\n",
    "    trainer.train()\n",
    "    end = time.time()\n",
    "    epoch_times.append(end - start)\n",
    "\n",
    "    val_pred = trainer.predict(tokenized_val)\n",
    "    preds = tokenizer.batch_decode(val_pred.predictions, skip_special_tokens=True)\n",
    "    labels = tokenizer.batch_decode(val_pred.label_ids, skip_special_tokens=True)\n",
    "    bleu = corpus_bleu(preds, [labels]).score\n",
    "    bleu_per_epoch.append(bleu)\n",
    "    print(f\"Epoch {epoch+1} BLEU: {bleu:.2f}, Time: {epoch_times[-1]:.2f} sec\")\n"
   ]
  },
  {
   "cell_type": "markdown",
   "id": "1d9ece41",
   "metadata": {},
   "source": [
    "interrupted due to time constraint subject to submission deadline and slow training"
   ]
  },
  {
   "cell_type": "markdown",
   "id": "d5f0d3a2",
   "metadata": {},
   "source": [
    "thus bleu score after epoch 1 is 18.42"
   ]
  },
  {
   "cell_type": "code",
   "execution_count": 23,
   "id": "e812be57",
   "metadata": {},
   "outputs": [
    {
     "name": "stderr",
     "output_type": "stream",
     "text": [
      "C:\\Users\\abhis\\AppData\\Local\\Packages\\PythonSoftwareFoundation.Python.3.11_qbz5n2kfra8p0\\LocalCache\\local-packages\\Python311\\site-packages\\transformers\\models\\marian\\tokenization_marian.py:175: UserWarning: Recommended: pip install sacremoses.\n",
      "  warnings.warn(\"Recommended: pip install sacremoses.\")\n"
     ]
    }
   ],
   "source": [
    "from transformers import MarianMTModel, MarianTokenizer\n",
    "\n",
    "model = MarianMTModel.from_pretrained(\"./final_opus_model\")\n",
    "tokenizer = MarianTokenizer.from_pretrained(\"./final_opus_model\")\n",
    "\n",
    "import torch\n",
    "device = torch.device(\"cuda\" if torch.cuda.is_available() else \"cpu\")\n",
    "model = model.to(device)\n"
   ]
  },
  {
   "cell_type": "code",
   "execution_count": 24,
   "id": "00e7c192",
   "metadata": {},
   "outputs": [],
   "source": [
    "from transformers import Seq2SeqTrainer, Seq2SeqTrainingArguments, DataCollatorForSeq2Seq\n",
    "\n",
    "data_collator = DataCollatorForSeq2Seq(tokenizer, model=model)\n",
    "\n",
    "training_args = Seq2SeqTrainingArguments(\n",
    "    output_dir=\"./dummy_eval_output\",\n",
    "    per_device_eval_batch_size=16,\n",
    "    predict_with_generate=True,\n",
    "    report_to=\"none\",\n",
    ")\n",
    "\n",
    "trainer = Seq2SeqTrainer(\n",
    "    model=model,\n",
    "    args=training_args,\n",
    "    tokenizer=tokenizer,\n",
    "    data_collator=data_collator,\n",
    ")\n"
   ]
  },
  {
   "cell_type": "code",
   "execution_count": 25,
   "id": "396d7066",
   "metadata": {},
   "outputs": [
    {
     "name": "stderr",
     "output_type": "stream",
     "text": [
      "100%|██████████| 520/520 [16:35<00:00,  1.91s/it]\n"
     ]
    },
    {
     "name": "stdout",
     "output_type": "stream",
     "text": [
      "Validation BLEU: 19.189774745016113\n"
     ]
    },
    {
     "name": "stderr",
     "output_type": "stream",
     "text": [
      "100%|██████████| 1169/1169 [36:13<00:00,  1.86s/it]\n"
     ]
    },
    {
     "name": "stdout",
     "output_type": "stream",
     "text": [
      "Final Test BLEU Score: 19.55\n"
     ]
    }
   ],
   "source": [
    "# Validation BLEU\n",
    "val_pred = trainer.predict(tokenized_val)\n",
    "val_preds = tokenizer.batch_decode(val_pred.predictions, skip_special_tokens=True)\n",
    "val_labels = tokenizer.batch_decode(val_pred.label_ids, skip_special_tokens=True)\n",
    "val_bleu = corpus_bleu(val_preds, [val_labels]).score\n",
    "print(\"Validation BLEU:\", val_bleu)\n",
    "\n",
    "# Test BLEU\n",
    "test_pred = trainer.predict(tokenized_test)\n",
    "test_preds = tokenizer.batch_decode(test_pred.predictions, skip_special_tokens=True)\n",
    "test_labels = tokenizer.batch_decode(test_pred.label_ids, skip_special_tokens=True)\n",
    "test_bleu = corpus_bleu(test_preds, [test_labels]).score\n",
    "print(f\"Final Test BLEU Score: {test_bleu:.2f}\")\n"
   ]
  },
  {
   "cell_type": "markdown",
   "id": "925da7c7",
   "metadata": {},
   "source": [
    "before training"
   ]
  },
  {
   "cell_type": "code",
   "execution_count": 26,
   "id": "a243da81",
   "metadata": {},
   "outputs": [],
   "source": [
    "from transformers import MarianMTModel, MarianTokenizer\n",
    "\n",
    "# Load pre-trained (unfine-tuned) model\n",
    "model = MarianMTModel.from_pretrained(\"Helsinki-NLP/opus-mt-en-es\")\n",
    "tokenizer = MarianTokenizer.from_pretrained(\"Helsinki-NLP/opus-mt-en-es\")\n",
    "\n",
    "model = model.to(\"cuda\" if torch.cuda.is_available() else \"cpu\")\n"
   ]
  },
  {
   "cell_type": "markdown",
   "id": "e4076243",
   "metadata": {},
   "source": [
    "# PLOTS"
   ]
  },
  {
   "cell_type": "markdown",
   "id": "da73f719",
   "metadata": {},
   "source": [
    "NOTE: "
   ]
  },
  {
   "cell_type": "code",
   "execution_count": 29,
   "id": "053a0975",
   "metadata": {},
   "outputs": [
    {
     "data": {
      "image/png": "[encoded data removed]",
      "text/plain": [
       "<Figure size 700x400 with 1 Axes>"
      ]
     },
     "metadata": {},
     "output_type": "display_data"
    }
   ],
   "source": [
    "import matplotlib.pyplot as plt\n",
    "\n",
    "# BLEU scores\n",
    "bleu_scores = [14.89, 18.42, 19.19]\n",
    "epochs = [0, 1, 2]\n",
    "labels = [\"Before Fine-Tuning\", \"Epoch 1\", \"Epoch 2\"]\n",
    "\n",
    "plt.figure(figsize=(7, 4))\n",
    "plt.plot(epochs, bleu_scores, marker=\"o\", linestyle=\"--\", color=\"blue\")\n",
    "plt.xticks(epochs, labels)\n",
    "plt.xlabel(\"Epoch\")\n",
    "plt.ylabel(\"Validation BLEU Score\")\n",
    "plt.title(\"BLEU Score vs Epoch\")\n",
    "plt.grid()\n",
    "plt.show()\n"
   ]
  },
  {
   "cell_type": "code",
   "execution_count": 32,
   "id": "c5d66618",
   "metadata": {},
   "outputs": [],
   "source": [
    "logs = [\n",
    "    {'loss': 1.9546, 'epoch': 0.12},\n",
    "    {'loss': 1.5414, 'epoch': 0.24},\n",
    "    {'loss': 1.3842, 'epoch': 0.36},\n",
    "    {'loss': 1.3138, 'epoch': 0.48},\n",
    "    {'loss': 1.2795, 'epoch': 0.60},\n",
    "    {'loss': 1.2445, 'epoch': 0.72},\n",
    "    {'loss': 1.2000, 'epoch': 0.84},\n",
    "    {'loss': 1.1910, 'epoch': 0.96},\n",
    "    {'loss': 1.1384, 'epoch': 1.08},\n",
    "    {'loss': 1.1069, 'epoch': 1.20},\n",
    "    {'loss': 1.1124, 'epoch': 1.32},\n",
    "    {'loss': 1.0956, 'epoch': 1.44},\n",
    "    {'loss': 1.0891, 'epoch': 1.56},\n",
    "    {'loss': 1.0679, 'epoch': 1.68},\n",
    "    {'loss': 1.0680, 'epoch': 1.81},\n",
    "    {'loss': 1.0723, 'epoch': 1.93}\n",
    "]\n",
    "# these logs are taken from the training logs of the model, showing the loss at different epochs \n",
    "# i am plotting manually because the model did not save the logs during training"
   ]
  },
  {
   "cell_type": "code",
   "execution_count": null,
   "id": "6e22b1e4",
   "metadata": {},
   "outputs": [],
   "source": [
    "#had to extract log text from output of training cell as logs were not saved\n",
    "log_text = \"\"\"\n",
    "{'loss': 1.9546, 'grad_norm': 3.3344943523406982, 'learning_rate': 1.8796630565583636e-05, 'epoch': 0.12}\n",
    "{'loss': 1.5414, 'grad_norm': 3.0614891052246094, 'learning_rate': 1.759326113116727e-05, 'epoch': 0.24}\n",
    "{'loss': 1.3842, 'grad_norm': 3.026151418685913, 'learning_rate': 1.6389891696750904e-05, 'epoch': 0.36}\n",
    "{'loss': 1.3138, 'grad_norm': 2.9586987495422363, 'learning_rate': 1.5186522262334538e-05, 'epoch': 0.48}\n",
    "{'loss': 1.2795, 'grad_norm': 3.173635244369507, 'learning_rate': 1.3983152827918172e-05, 'epoch': 0.6}\n",
    "{'loss': 1.2445, 'grad_norm': 2.339324474334717, 'learning_rate': 1.2779783393501806e-05, 'epoch': 0.72}\n",
    "{'loss': 1.2, 'grad_norm': 2.9053025245666504, 'learning_rate': 1.157641395908544e-05, 'epoch': 0.84}\n",
    "{'loss': 1.191, 'grad_norm': 2.8411779403686523, 'learning_rate': 1.0373044524669073e-05, 'epoch': 0.96}\n",
    "{'eval_loss': 1.087510108947754, 'epoch': 1.0}\n",
    "{'loss': 1.1384, 'grad_norm': 2.6342103481292725, 'learning_rate': 9.169675090252709e-06, 'epoch': 1.08}\n",
    "{'loss': 1.1069, 'grad_norm': 2.899354934692383, 'learning_rate': 7.966305655836343e-06, 'epoch': 1.2}\n",
    "{'loss': 1.1124, 'grad_norm': 2.6256935596466064, 'learning_rate': 6.762936221419977e-06, 'epoch': 1.32}\n",
    "{'loss': 1.0956, 'grad_norm': 2.708740234375, 'learning_rate': 5.559566787003611e-06, 'epoch': 1.44}\n",
    "{'loss': 1.0891, 'grad_norm': 2.4286556243896484, 'learning_rate': 4.356197352587245e-06, 'epoch': 1.56}\n",
    "{'loss': 1.0679, 'grad_norm': 2.5545167922973633, 'learning_rate': 3.1528279181708787e-06, 'epoch': 1.68}\n",
    "{'loss': 1.068, 'grad_norm': 2.8705058097839355, 'learning_rate': 1.949458483754513e-06, 'epoch': 1.81}\n",
    "{'loss': 1.0723, 'grad_norm': 3.0169715881347656, 'learning_rate': 7.460890493381469e-07, 'epoch': 1.93}\n",
    "{'eval_loss': 1.0320098400115967, 'epoch': 2.0}\n",
    "\"\"\"\n"
   ]
  },
  {
   "cell_type": "code",
   "execution_count": 42,
   "id": "ba45ca82",
   "metadata": {},
   "outputs": [
    {
     "data": {
      "image/png": "[encoded data removed]",
      "text/plain": [
       "<Figure size 800x500 with 1 Axes>"
      ]
     },
     "metadata": {},
     "output_type": "display_data"
    }
   ],
   "source": [
    "import ast\n",
    "import matplotlib.pyplot as plt\n",
    "\n",
    "# Parse each dictionary from the log\n",
    "lines = [line.strip() for line in log_text.strip().split(\"\\n\") if line.strip()]\n",
    "logs = [ast.literal_eval(line) for line in lines]\n",
    "\n",
    "# Separate train and eval logs\n",
    "train_epochs, train_losses = [], []\n",
    "eval_epochs, eval_losses = [], []\n",
    "\n",
    "for log in logs:\n",
    "    if \"loss\" in log and \"eval_loss\" not in log:\n",
    "        train_epochs.append(log[\"epoch\"])\n",
    "        train_losses.append(log[\"loss\"])\n",
    "    elif \"eval_loss\" in log:\n",
    "        eval_epochs.append(log[\"epoch\"])\n",
    "        eval_losses.append(log[\"eval_loss\"])\n",
    "\n",
    "# Plotting\n",
    "plt.figure(figsize=(8, 5))\n",
    "plt.plot(train_epochs, train_losses, label=\"Train Loss\", marker='o')\n",
    "plt.plot(eval_epochs, eval_losses, label=\"Validation Loss\", marker='s')\n",
    "plt.xlabel(\"Epoch\")\n",
    "plt.ylabel(\"Loss\")\n",
    "plt.title(\"Training and Validation Loss vs Epoch\")\n",
    "plt.grid(True)\n",
    "plt.legend()\n",
    "plt.tight_layout()\n",
    "plt.show()\n"
   ]
  },
  {
   "cell_type": "code",
   "execution_count": 35,
   "id": "bcc88e73",
   "metadata": {},
   "outputs": [
    {
     "data": {
      "image/png": "[encoded data removed]",
      "text/plain": [
       "<Figure size 600x400 with 1 Axes>"
      ]
     },
     "metadata": {},
     "output_type": "display_data"
    }
   ],
   "source": [
    "import matplotlib.pyplot as plt\n",
    "\n",
    "epochs = [1, 2]\n",
    "epoch_times = [2708.17, 2707.40]\n",
    "\n",
    "plt.figure(figsize=(6, 4))\n",
    "plt.plot(epochs, epoch_times, marker='s', linestyle='--', color='purple')\n",
    "plt.xlabel(\"Epoch\")\n",
    "plt.ylabel(\"Epoch Time (seconds)\")\n",
    "plt.title(\"Epoch Time vs Epoch\")\n",
    "plt.grid(True)\n",
    "plt.xticks(epochs)\n",
    "plt.ylim(min(epoch_times) - 50, max(epoch_times) + 50)\n",
    "plt.show()\n"
   ]
  },
  {
   "cell_type": "code",
   "execution_count": 37,
   "id": "3d2c4dbd",
   "metadata": {},
   "outputs": [
    {
     "data": {
      "image/png": "[encoded data removed]",
      "text/plain": [
       "<Figure size 550x400 with 1 Axes>"
      ]
     },
     "metadata": {},
     "output_type": "display_data"
    }
   ],
   "source": [
    "import matplotlib.pyplot as plt\n",
    "\n",
    "# Final BLEU scores after training (you already obtained these)\n",
    "val_bleu = 19.19\n",
    "test_bleu = 19.55\n",
    "\n",
    "# Plot\n",
    "plt.figure(figsize=(5.5, 4))\n",
    "plt.bar([\"Validation (Final)\", \"Test\"], [val_bleu, test_bleu], color=[\"skyblue\", \"orange\"])\n",
    "plt.ylabel(\"BLEU Score\")\n",
    "plt.title(\"Final BLEU Score: Validation vs Test\")\n",
    "plt.ylim(0, 25)\n",
    "plt.grid(axis='y', linestyle='--', alpha=0.7)\n",
    "plt.show()\n"
   ]
  },
  {
   "cell_type": "code",
   "execution_count": null,
   "id": "a4efbcc7",
   "metadata": {},
   "outputs": [
    {
     "name": "stderr",
     "output_type": "stream",
     "text": [
      "Some non-default generation parameters are set in the model config. These should go into a GenerationConfig file (https://huggingface.co/docs/transformers/generation_strategies#save-a-custom-decoding-strategy-with-your-model) instead. This warning will be raised to an exception in v4.41.\n",
      "Non-default generation parameters: {'max_length': 512, 'num_beams': 4, 'bad_words_ids': [[65000]], 'forced_eos_token_id': 0}\n"
     ]
    },
    {
     "data": {
      "text/plain": [
       "('./final_opus_model\\\\tokenizer_config.json',\n",
       " './final_opus_model\\\\special_tokens_map.json',\n",
       " './final_opus_model\\\\vocab.json',\n",
       " './final_opus_model\\\\source.spm',\n",
       " './final_opus_model\\\\target.spm',\n",
       " './final_opus_model\\\\added_tokens.json')"
      ]
     },
     "execution_count": 25,
     "metadata": {},
     "output_type": "execute_result"
    }
   ],
   "source": [
    "trainer.save_model(\"./final_opus_model\")  # Saves the model weights and config\n",
    "tokenizer.save_pretrained(\"./final_opus_model\")  # Saves the tokenizer config/vocab\n"
   ]
  }
 ],
 "metadata": {
  "kernelspec": {
   "display_name": "Python 3",
   "language": "python",
   "name": "python3"
  },
  "language_info": {
   "codemirror_mode": {
    "name": "ipython",
    "version": 3
   },
   "file_extension": ".py",
   "mimetype": "text/x-python",
   "name": "python",
   "nbconvert_exporter": "python",
   "pygments_lexer": "ipython3",
   "version": "3.11.9"
  }
 },
 "nbformat": 4,
 "nbformat_minor": 5
}
