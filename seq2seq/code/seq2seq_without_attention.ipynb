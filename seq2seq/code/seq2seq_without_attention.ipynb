{
 "cells": [
  {
   "cell_type": "code",
   "execution_count": 1,
   "id": "ff7e60ff",
   "metadata": {},
   "outputs": [
    {
     "name": "stderr",
     "output_type": "stream",
     "text": [
      "C:\\Users\\abhis\\AppData\\Local\\Packages\\PythonSoftwareFoundation.Python.3.11_qbz5n2kfra8p0\\LocalCache\\local-packages\\Python311\\site-packages\\tqdm\\auto.py:21: TqdmWarning: IProgress not found. Please update jupyter and ipywidgets. See https://ipywidgets.readthedocs.io/en/stable/user_install.html\n",
      "  from .autonotebook import tqdm as notebook_tqdm\n"
     ]
    }
   ],
   "source": [
    "!pip install datasets sacrebleu --quiet\n",
    "\n",
    "import torch\n",
    "import torch.nn as nn\n",
    "import torch.optim as optim\n",
    "from torch.utils.data import Dataset, DataLoader\n",
    "\n",
    "import numpy as np\n",
    "from datasets import load_dataset\n",
    "from sacrebleu import corpus_bleu\n",
    "\n",
    "import matplotlib.pyplot as plt\n",
    "import random\n",
    "import time\n",
    "from tqdm import tqdm\n",
    "import re\n"
   ]
  },
  {
   "cell_type": "code",
   "execution_count": null,
   "id": "e0def14d",
   "metadata": {},
   "outputs": [],
   "source": [
    "dataset = load_dataset(\"opus_books\", \"en-es\")\n",
    "\n",
    "raw_data = dataset[\"train\"].shuffle(seed=42).select(range(15000))\n",
    "\n",
    "PAD_TOKEN = \"<pad>\"\n",
    "SOS_TOKEN = \"<sos>\"\n",
    "EOS_TOKEN = \"<eos>\"\n",
    "UNK_TOKEN = \"<unk>\"\n",
    "\n",
    "def tokenize(text):\n",
    "    text = text.lower()\n",
    "    text = re.sub(r\"[^a-zA-Z¿¡]+\", \" \", text)\n",
    "    return text.strip().split()\n",
    "\n",
    "# tokenise and add <sos>, <eos> to target es only\n",
    "en_sentences = [tokenize(x['translation']['en']) for x in raw_data]\n",
    "es_sentences = [[SOS_TOKEN] + tokenize(x['translation']['es']) + [EOS_TOKEN] for x in raw_data]\n"
   ]
  },
  {
   "cell_type": "code",
   "execution_count": 3,
   "id": "a61d65d1",
   "metadata": {},
   "outputs": [
    {
     "name": "stdout",
     "output_type": "stream",
     "text": [
      "English Vocab Size: 11121\n",
      "Spanish Vocab Size: 13268\n"
     ]
    }
   ],
   "source": [
    "from collections import Counter\n",
    "\n",
    "def build_vocab(sentences, min_freq=2):\n",
    "    counter = Counter()\n",
    "    for sentence in sentences:\n",
    "        counter.update(sentence)\n",
    "    vocab = [PAD_TOKEN, SOS_TOKEN, EOS_TOKEN, UNK_TOKEN] + \\\n",
    "            [word for word, freq in counter.items() if freq >= min_freq]\n",
    "    word2idx = {word: idx for idx, word in enumerate(vocab)}\n",
    "    idx2word = {idx: word for word, idx in word2idx.items()}\n",
    "    return vocab, word2idx, idx2word\n",
    "\n",
    "en_vocab, en_word2idx, en_idx2word = build_vocab(en_sentences)\n",
    "es_vocab, es_word2idx, es_idx2word = build_vocab(es_sentences)\n",
    "\n",
    "print(f\"English Vocab Size: {len(en_vocab)}\")\n",
    "print(f\"Spanish Vocab Size: {len(es_vocab)}\")\n"
   ]
  },
  {
   "cell_type": "code",
   "execution_count": null,
   "id": "b9b555fb",
   "metadata": {},
   "outputs": [
    {
     "name": "stdout",
     "output_type": "stream",
     "text": [
      "Inputs shape: torch.Size([15000, 60])\n",
      "Targets shape: torch.Size([15000, 62])\n"
     ]
    }
   ],
   "source": [
    "MAX_LEN_EN = 60\n",
    "MAX_LEN_ES = 62  # Include <sos> and <eos>\n",
    "\n",
    "def encode_sentence(sentence, word2idx, max_len):\n",
    "    ids = [word2idx.get(tok, word2idx[UNK_TOKEN]) for tok in sentence]\n",
    "    ids = ids[:max_len]\n",
    "    ids += [word2idx[PAD_TOKEN]] * (max_len - len(ids))\n",
    "    return ids\n",
    "\n",
    "inputs = [encode_sentence(s, en_word2idx, MAX_LEN_EN) for s in en_sentences]\n",
    "targets = [encode_sentence(s, es_word2idx, MAX_LEN_ES) for s in es_sentences]\n",
    "\n",
    "inputs_tensor = torch.tensor(inputs, dtype=torch.long)\n",
    "targets_tensor = torch.tensor(targets, dtype=torch.long)\n",
    "\n",
    "print(\"Inputs shape:\", inputs_tensor.shape)\n",
    "print(\"Targets shape:\", targets_tensor.shape)\n"
   ]
  },
  {
   "cell_type": "code",
   "execution_count": null,
   "id": "849e586f",
   "metadata": {},
   "outputs": [],
   "source": [
    "from torch.utils.data import Dataset, DataLoader\n",
    "\n",
    "class TranslationDataset(Dataset):\n",
    "    def __init__(self, inputs, targets):\n",
    "        self.inputs = inputs\n",
    "        self.targets = targets\n",
    "\n",
    "    def __len__(self):\n",
    "        return len(self.inputs)\n",
    "\n",
    "    def __getitem__(self, idx):\n",
    "        return {'src': self.inputs[idx], 'tgt': self.targets[idx]}\n",
    "\n",
    "\n",
    "train_len = int(0.8 * len(inputs_tensor))\n",
    "val_len = int(0.1 * len(inputs_tensor))\n",
    "test_len = len(inputs_tensor) - train_len - val_len\n",
    "\n",
    "train_set = TranslationDataset(inputs_tensor[:train_len], targets_tensor[:train_len])\n",
    "val_set = TranslationDataset(inputs_tensor[train_len:train_len+val_len], targets_tensor[train_len:train_len+val_len])\n",
    "test_set = TranslationDataset(inputs_tensor[-test_len:], targets_tensor[-test_len:])\n",
    "\n",
    "BATCH_SIZE = 128\n",
    "train_loader = DataLoader(train_set, batch_size=BATCH_SIZE, shuffle=True)\n",
    "val_loader = DataLoader(val_set, batch_size=BATCH_SIZE)\n",
    "test_loader = DataLoader(test_set, batch_size=BATCH_SIZE)\n"
   ]
  },
  {
   "cell_type": "code",
   "execution_count": 6,
   "id": "6d30ff53",
   "metadata": {},
   "outputs": [],
   "source": [
    "class Encoder(nn.Module):\n",
    "    def __init__(self, input_dim, emb_dim, hid_dim, n_layers=1, dropout=0.1):\n",
    "        super().__init__()\n",
    "        self.embedding = nn.Embedding(input_dim, emb_dim, padding_idx=en_word2idx[PAD_TOKEN])\n",
    "        self.rnn = nn.LSTM(emb_dim, hid_dim, n_layers, dropout=dropout, batch_first=True)\n",
    "        self.dropout = nn.Dropout(dropout)\n",
    "\n",
    "    def forward(self, src):\n",
    "        embedded = self.dropout(self.embedding(src))\n",
    "        outputs, (hidden, cell) = self.rnn(embedded)\n",
    "        return hidden, cell  # no need to return encoder_outputs\n"
   ]
  },
  {
   "cell_type": "code",
   "execution_count": 7,
   "id": "a9980ece",
   "metadata": {},
   "outputs": [],
   "source": [
    "class Decoder(nn.Module):\n",
    "    def __init__(self, output_dim, emb_dim, hid_dim, n_layers=1, dropout=0.1):\n",
    "        super().__init__()\n",
    "        self.output_dim = output_dim\n",
    "        self.embedding = nn.Embedding(output_dim, emb_dim, padding_idx=es_word2idx[PAD_TOKEN])\n",
    "        self.rnn = nn.LSTM(emb_dim, hid_dim, n_layers, dropout=dropout, batch_first=True)\n",
    "        self.fc_out = nn.Linear(hid_dim, output_dim)\n",
    "        self.dropout = nn.Dropout(dropout)\n",
    "\n",
    "    def forward(self, input, hidden, cell):\n",
    "        input = input.unsqueeze(1)  # [batch_size, 1]\n",
    "        embedded = self.dropout(self.embedding(input))  # [batch_size, 1, emb_dim]\n",
    "        output, (hidden, cell) = self.rnn(embedded, (hidden, cell))  # [batch_size, 1, hid_dim]\n",
    "        prediction = self.fc_out(output.squeeze(1))  # [batch_size, output_dim]\n",
    "        return prediction, hidden, cell\n"
   ]
  },
  {
   "cell_type": "code",
   "execution_count": null,
   "id": "67bd333b",
   "metadata": {},
   "outputs": [],
   "source": [
    "class Seq2Seq(nn.Module):\n",
    "    def __init__(self, encoder, decoder, device):\n",
    "        super().__init__()\n",
    "        self.encoder = encoder\n",
    "        self.decoder = decoder\n",
    "        self.device = device\n",
    "        self.use_checkpoint = True\n",
    "\n",
    "    def forward(self, src, trg, teacher_forcing_ratio=0.5):\n",
    "        batch_size = trg.shape[0]\n",
    "        trg_len = trg.shape[1]\n",
    "        trg_vocab_size = self.decoder.output_dim\n",
    "\n",
    "        outputs = torch.zeros(batch_size, trg_len, trg_vocab_size).to(self.device)\n",
    "\n",
    "        hidden, cell = self.encoder(src)\n",
    "        input = trg[:, 0]  # <sos>\n",
    "\n",
    "        for t in range(1, trg_len):\n",
    "            if self.use_checkpoint:\n",
    "                output, hidden, cell = checkpoint(\n",
    "                    self._decoder_step, input, hidden, cell,\n",
    "                    use_reentrant=False\n",
    "                )\n",
    "            else:\n",
    "                output, hidden, cell = self.decoder(input, hidden, cell)\n",
    "\n",
    "            outputs[:, t] = output\n",
    "            teacher_force = random.random() < teacher_forcing_ratio\n",
    "            top1 = output.argmax(1)\n",
    "            input = trg[:, t] if teacher_force else top1\n",
    "\n",
    "        return outputs\n",
    "\n",
    "    def _decoder_step(self, input, hidden, cell):\n",
    "        return self.decoder(input, hidden, cell)\n"
   ]
  },
  {
   "cell_type": "code",
   "execution_count": null,
   "id": "41700552",
   "metadata": {},
   "outputs": [
    {
     "name": "stdout",
     "output_type": "stream",
     "text": [
      "Using device: cuda\n"
     ]
    }
   ],
   "source": [
    "device = torch.device('cuda' if torch.cuda.is_available() else 'cpu')\n",
    "print(\"Using device:\", device)\n",
    "\n",
    "INPUT_DIM = len(en_word2idx)\n",
    "OUTPUT_DIM = len(es_word2idx)\n",
    "\n",
    "ENC_EMB_DIM = 256\n",
    "DEC_EMB_DIM = 256\n",
    "HID_DIM = 512\n",
    "N_LAYERS = 2\n",
    "ENC_DROPOUT = 0.1\n",
    "DEC_DROPOUT = 0.1\n",
    "\n",
    "encoder = Encoder(INPUT_DIM, ENC_EMB_DIM, HID_DIM, N_LAYERS, ENC_DROPOUT).to(device)\n",
    "decoder = Decoder(OUTPUT_DIM, DEC_EMB_DIM, HID_DIM, N_LAYERS, DEC_DROPOUT).to(device)\n",
    "\n",
    "model = Seq2Seq(encoder, decoder, device)\n",
    "model.use_checkpoint = True\n",
    "\n",
    "optimizer = optim.Adam(model.parameters(), lr=1e-3)\n",
    "criterion = nn.CrossEntropyLoss(ignore_index=es_word2idx[PAD_TOKEN])\n"
   ]
  },
  {
   "cell_type": "code",
   "execution_count": null,
   "id": "060ccf7d",
   "metadata": {},
   "outputs": [
    {
     "name": "stderr",
     "output_type": "stream",
     "text": [
      "C:\\Users\\abhis\\AppData\\Local\\Temp\\ipykernel_24732\\198487016.py:4: FutureWarning: `torch.cuda.amp.GradScaler(args...)` is deprecated. Please use `torch.amp.GradScaler('cuda', args...)` instead.\n",
      "  scaler = GradScaler()\n"
     ]
    }
   ],
   "source": [
    "from torch.cuda.amp import autocast, GradScaler\n",
    "\n",
    "scaler = GradScaler()\n",
    "\n",
    "def train(model, dataloader, optimizer, criterion, device, epoch, total_epochs):\n",
    "    model.train()\n",
    "    epoch_loss = 0\n",
    "    total_batches = len(dataloader)\n",
    "    batch_losses = []\n",
    "\n",
    "    progress_bar = tqdm(enumerate(dataloader), total=total_batches, desc=f\"Epoch {epoch+1}/{total_epochs}\")\n",
    "\n",
    "    for i, batch in progress_bar:\n",
    "        src = batch[\"src\"].to(device)\n",
    "        trg = batch[\"tgt\"].to(device)\n",
    "\n",
    "        optimizer.zero_grad()\n",
    "\n",
    "        with autocast():\n",
    "            output = model(src, trg)\n",
    "            output_dim = output.shape[-1]\n",
    "            output = output[:, 1:].reshape(-1, output_dim)\n",
    "            trg = trg[:, 1:].reshape(-1)\n",
    "            loss = criterion(output, trg)\n",
    "\n",
    "        scaler.scale(loss).backward()\n",
    "        scaler.unscale_(optimizer)\n",
    "        torch.nn.utils.clip_grad_norm_(model.parameters(), max_norm=1.0)\n",
    "        scaler.step(optimizer)\n",
    "        scaler.update()\n",
    "\n",
    "        epoch_loss += loss.item()\n",
    "        batch_losses.append(loss.item())\n",
    "\n",
    "        if (i + 1) % 10 == 0:\n",
    "            progress_bar.set_postfix({\n",
    "                'loss': f'{epoch_loss/(i+1):.4f}',\n",
    "                'lr': optimizer.param_groups[0]['lr'],\n",
    "                'scale': f'{scaler.get_scale():.1f}'\n",
    "            })\n",
    "\n",
    "    return epoch_loss / total_batches, batch_losses\n"
   ]
  },
  {
   "cell_type": "code",
   "execution_count": null,
   "id": "ffed95b1",
   "metadata": {},
   "outputs": [],
   "source": [
    "from sacrebleu import corpus_bleu\n",
    "\n",
    "def evaluate(model, dataloader, device):\n",
    "    model.eval()\n",
    "    all_preds = []\n",
    "    all_labels = []\n",
    "\n",
    "    with torch.no_grad():\n",
    "        for batch in tqdm(dataloader, desc=\"Evaluating\"):\n",
    "            src = batch[\"src\"].to(device)\n",
    "            trg = batch[\"tgt\"].to(device)\n",
    "            output = model(src, trg, teacher_forcing_ratio=0)\n",
    "            preds = output.argmax(dim=-1)\n",
    "\n",
    "            for i in range(preds.shape[0]):\n",
    "                pred_tokens = [\n",
    "                    es_idx2word[idx.item()]\n",
    "                    for idx in preds[i]\n",
    "                    if idx.item() not in [es_word2idx[PAD_TOKEN], es_word2idx[SOS_TOKEN], es_word2idx[EOS_TOKEN]]\n",
    "                ]\n",
    "                label_tokens = [\n",
    "                    es_idx2word[idx.item()]\n",
    "                    for idx in trg[i]\n",
    "                    if idx.item() not in [es_word2idx[PAD_TOKEN], es_word2idx[SOS_TOKEN], es_word2idx[EOS_TOKEN]]\n",
    "                ]\n",
    "                all_preds.append(\" \".join(pred_tokens))\n",
    "                all_labels.append([\" \".join(label_tokens)])\n",
    "\n",
    "    bleu = corpus_bleu(all_preds, all_labels)\n",
    "    return bleu.score\n"
   ]
  },
  {
   "cell_type": "code",
   "execution_count": 12,
   "id": "05959b53",
   "metadata": {},
   "outputs": [
    {
     "name": "stderr",
     "output_type": "stream",
     "text": [
      "Epoch 1/3:   0%|          | 0/94 [00:00<?, ?it/s]C:\\Users\\abhis\\AppData\\Local\\Temp\\ipykernel_24732\\198487016.py:20: FutureWarning: `torch.cuda.amp.autocast(args...)` is deprecated. Please use `torch.amp.autocast('cuda', args...)` instead.\n",
      "  with autocast():\n",
      "Epoch 1/3: 100%|██████████| 94/94 [01:54<00:00,  1.21s/it, loss=6.8156, lr=0.001, scale=65536.0]\n",
      "Evaluating: 100%|██████████| 12/12 [00:07<00:00,  1.56it/s]\n"
     ]
    },
    {
     "name": "stdout",
     "output_type": "stream",
     "text": [
      "\n",
      "Epoch 1 Summary:\n",
      "  Train Loss: 6.80401113\n",
      "  Val BLEU: 3.10790339\n",
      "  Time: 121.97s\n",
      "  Best model saved!\n"
     ]
    },
    {
     "name": "stderr",
     "output_type": "stream",
     "text": [
      "Epoch 2/3: 100%|██████████| 94/94 [01:56<00:00,  1.24s/it, loss=6.4790, lr=0.001, scale=65536.0]\n",
      "Evaluating: 100%|██████████| 12/12 [00:06<00:00,  1.72it/s]\n"
     ]
    },
    {
     "name": "stdout",
     "output_type": "stream",
     "text": [
      "\n",
      "Epoch 2 Summary:\n",
      "  Train Loss: 6.47796519\n",
      "  Val BLEU: 6.19245064\n",
      "  Time: 123.73s\n",
      "  Best model saved!\n"
     ]
    },
    {
     "name": "stderr",
     "output_type": "stream",
     "text": [
      "Epoch 3/3: 100%|██████████| 94/94 [01:55<00:00,  1.22s/it, loss=6.3606, lr=0.001, scale=65536.0]\n",
      "Evaluating: 100%|██████████| 12/12 [00:07<00:00,  1.65it/s]\n"
     ]
    },
    {
     "name": "stdout",
     "output_type": "stream",
     "text": [
      "\n",
      "Epoch 3 Summary:\n",
      "  Train Loss: 6.35997337\n",
      "  Val BLEU: 10.01270693\n",
      "  Time: 122.48s\n",
      "  Best model saved!\n"
     ]
    }
   ],
   "source": [
    "from torch.utils.checkpoint import checkpoint\n",
    "\n",
    "EPOCHS = 3\n",
    "all_train_batch_losses = []\n",
    "epoch_train_losses = []\n",
    "val_bleus = []\n",
    "best_bleu = 0\n",
    "\n",
    "for epoch in range(EPOCHS):\n",
    "    start_time = time.time()\n",
    "\n",
    "    # Train\n",
    "    train_loss, batch_losses = train(model, train_loader, optimizer, criterion, device, epoch, EPOCHS)\n",
    "    epoch_train_losses.append(train_loss)\n",
    "    all_train_batch_losses.extend(batch_losses)\n",
    "\n",
    "    # Evaluate\n",
    "    val_bleu = evaluate(model, val_loader, device)\n",
    "    val_bleus.append(val_bleu)\n",
    "\n",
    "    print(f\"\\nEpoch {epoch+1} Summary:\")\n",
    "    print(f\"  Train Loss: {train_loss:.8f}\")\n",
    "    print(f\"  Val BLEU: {val_bleu:.8f}\")\n",
    "    print(f\"  Time: {time.time() - start_time:.2f}s\")\n",
    "\n",
    "    if val_bleu > best_bleu:\n",
    "        best_bleu = val_bleu\n",
    "        torch.save(model.state_dict(), \"best_seq2seq_no_attention.pt\")\n",
    "        print(\"  Best model saved!\")\n"
   ]
  },
  {
   "cell_type": "code",
   "execution_count": null,
   "id": "50150c40",
   "metadata": {},
   "outputs": [
    {
     "name": "stderr",
     "output_type": "stream",
     "text": [
      "C:\\Users\\abhis\\AppData\\Local\\Temp\\ipykernel_24732\\1882959884.py:2: FutureWarning: You are using `torch.load` with `weights_only=False` (the current default value), which uses the default pickle module implicitly. It is possible to construct malicious pickle data which will execute arbitrary code during unpickling (See https://github.com/pytorch/pytorch/blob/main/SECURITY.md#untrusted-models for more details). In a future release, the default value for `weights_only` will be flipped to `True`. This limits the functions that could be executed during unpickling. Arbitrary objects will no longer be allowed to be loaded via this mode unless they are explicitly allowlisted by the user via `torch.serialization.add_safe_globals`. We recommend you start setting `weights_only=True` for any use case where you don't have full control of the loaded file. Please open an issue on GitHub for any issues related to this experimental feature.\n",
      "  model.load_state_dict(torch.load(\"best_seq2seq_no_attention.pt\"))\n",
      "Evaluating: 100%|██████████| 12/12 [00:07<00:00,  1.60it/s]"
     ]
    },
    {
     "name": "stdout",
     "output_type": "stream",
     "text": [
      "\n",
      "Final Test BLEU Score: 8.5566\n"
     ]
    },
    {
     "name": "stderr",
     "output_type": "stream",
     "text": [
      "\n"
     ]
    }
   ],
   "source": [
    "#on test set\n",
    "model.load_state_dict(torch.load(\"best_seq2seq_no_attention.pt\"))\n",
    "\n",
    "test_bleu = evaluate(model, test_loader, device)\n",
    "\n",
    "print(f\"\\nFinal Test BLEU Score: {test_bleu:.4f}\")\n"
   ]
  },
  {
   "cell_type": "code",
   "execution_count": 18,
   "id": "210e1af0",
   "metadata": {},
   "outputs": [
    {
     "data": {
      "image/png": "[encoded data removed]",
      "text/plain": [
       "<Figure size 1000x500 with 1 Axes>"
      ]
     },
     "metadata": {},
     "output_type": "display_data"
    }
   ],
   "source": [
    "def moving_average(data, window_size=20):\n",
    "    return np.convolve(data, np.ones(window_size)/window_size, mode='valid')\n",
    "\n",
    "smoothed_losses = moving_average(all_train_batch_losses, window_size=20)\n",
    "\n",
    "plt.figure(figsize=(10, 5))\n",
    "plt.plot(smoothed_losses, color='orange')\n",
    "plt.title(\"Train Loss vs Batches (Smoothed)(without attention)\")\n",
    "plt.xlabel(\"Batch Number\")\n",
    "plt.ylabel(\"Loss\")\n",
    "plt.grid(True)\n",
    "plt.show()\n"
   ]
  },
  {
   "cell_type": "code",
   "execution_count": 15,
   "id": "845581e3",
   "metadata": {},
   "outputs": [
    {
     "data": {
      "image/png": "[encoded data removed]",
      "text/plain": [
       "<Figure size 600x500 with 1 Axes>"
      ]
     },
     "metadata": {},
     "output_type": "display_data"
    }
   ],
   "source": [
    "import matplotlib.pyplot as plt\n",
    "\n",
    "val_bleu = 10.0127\n",
    "test_bleu = 8.5566\n",
    "\n",
    "labels = ['Validation', 'Test']\n",
    "scores = [val_bleu, test_bleu]\n",
    "\n",
    "plt.figure(figsize=(6, 5))\n",
    "bars = plt.bar(labels, scores, color=['skyblue', 'salmon'])\n",
    "\n",
    "for bar in bars:\n",
    "    yval = bar.get_height()\n",
    "    plt.text(bar.get_x() + bar.get_width()/2.0, yval + 1, f'{yval:.2f}', ha='center', va='bottom', fontsize=12)\n",
    "\n",
    "plt.title(\"BLEU Score Comparison: Validation vs Test (Without Attention)\")\n",
    "plt.ylabel(\"BLEU Score\")\n",
    "plt.ylim(0, max(scores) + 10)\n",
    "plt.grid(axis='y', linestyle='--', alpha=0.6)\n",
    "plt.show()\n"
   ]
  },
  {
   "cell_type": "code",
   "execution_count": 16,
   "id": "8ff2196c",
   "metadata": {},
   "outputs": [
    {
     "data": {
      "image/png": "[encoded data removed]",
      "text/plain": [
       "<Figure size 800x500 with 1 Axes>"
      ]
     },
     "metadata": {},
     "output_type": "display_data"
    }
   ],
   "source": [
    "import matplotlib.pyplot as plt\n",
    "\n",
    "train_losses = [6.8156, 6.4790, 6.3606]\n",
    "epochs = [1, 2, 3]\n",
    "\n",
    "\n",
    "plt.figure(figsize=(8, 5))\n",
    "plt.plot(epochs, train_losses, marker='o', linestyle='-', color='darkorange')\n",
    "plt.title(\"Train Loss vs Epoch without attention\")\n",
    "plt.xlabel(\"Epoch\")\n",
    "plt.ylabel(\"Train Loss\")\n",
    "plt.grid(True)\n",
    "plt.xticks(epochs)\n",
    "plt.ylim(min(train_losses) - 0.1, max(train_losses) + 0.1)\n",
    "plt.show()\n"
   ]
  },
  {
   "cell_type": "code",
   "execution_count": null,
   "id": "1fbf7d8f",
   "metadata": {},
   "outputs": [],
   "source": []
  }
 ],
 "metadata": {
  "kernelspec": {
   "display_name": "Python 3",
   "language": "python",
   "name": "python3"
  },
  "language_info": {
   "codemirror_mode": {
    "name": "ipython",
    "version": 3
   },
   "file_extension": ".py",
   "mimetype": "text/x-python",
   "name": "python",
   "nbconvert_exporter": "python",
   "pygments_lexer": "ipython3",
   "version": "3.11.9"
  }
 },
 "nbformat": 4,
 "nbformat_minor": 5
}
